{
 "cells": [
  {
   "cell_type": "code",
   "execution_count": 1,
   "id": "80ba0927",
   "metadata": {},
   "outputs": [],
   "source": [
    "import tensorflow as tf\n",
    "from tensorflow import keras\n",
    "from tensorflow.keras import layers, metrics\n",
    "from tensorflow.keras.preprocessing.image import ImageDataGenerator, array_to_img, img_to_array, load_img\n",
    "\n",
    "import os\n",
    "import matplotlib\n",
    "from matplotlib import pyplot as plt\n",
    "import numpy as np\n",
    "import pandas as pd\n",
    "from sklearn.model_selection import train_test_split\n",
    "from tqdm import tqdm\n",
    "matplotlib.style.use('ggplot')\n",
    "%matplotlib inline"
   ]
  },
  {
   "cell_type": "code",
   "execution_count": 2,
   "id": "5868e202",
   "metadata": {},
   "outputs": [],
   "source": [
    "from skimage import io, color, filters\n",
    "\n",
    "from PIL import Image\n",
    "import requests\n",
    "from io import BytesIO\n",
    "from imageio import imread"
   ]
  },
  {
   "cell_type": "markdown",
   "id": "c2b62b87",
   "metadata": {},
   "source": [
    "## Read in Labels"
   ]
  },
  {
   "cell_type": "code",
   "execution_count": 3,
   "id": "3478317a",
   "metadata": {},
   "outputs": [
    {
     "data": {
      "text/html": [
       "<div>\n",
       "<style scoped>\n",
       "    .dataframe tbody tr th:only-of-type {\n",
       "        vertical-align: middle;\n",
       "    }\n",
       "\n",
       "    .dataframe tbody tr th {\n",
       "        vertical-align: top;\n",
       "    }\n",
       "\n",
       "    .dataframe thead th {\n",
       "        text-align: right;\n",
       "    }\n",
       "</style>\n",
       "<table border=\"1\" class=\"dataframe\">\n",
       "  <thead>\n",
       "    <tr style=\"text-align: right;\">\n",
       "      <th></th>\n",
       "      <th>ID</th>\n",
       "      <th>Name</th>\n",
       "      <th>Primary Type</th>\n",
       "      <th>Secondary Type</th>\n",
       "      <th>Image</th>\n",
       "      <th>Additional Images</th>\n",
       "    </tr>\n",
       "  </thead>\n",
       "  <tbody>\n",
       "    <tr>\n",
       "      <th>0</th>\n",
       "      <td>#001</td>\n",
       "      <td>bulbasaur</td>\n",
       "      <td>Grass</td>\n",
       "      <td>Poison</td>\n",
       "      <td>https://img.pokemondb.net/sprites/bank/normal/...</td>\n",
       "      <td>['https://img.pokemondb.net/artwork/bulbasaur....</td>\n",
       "    </tr>\n",
       "    <tr>\n",
       "      <th>1</th>\n",
       "      <td>#002</td>\n",
       "      <td>ivysaur</td>\n",
       "      <td>Grass</td>\n",
       "      <td>Poison</td>\n",
       "      <td>https://img.pokemondb.net/sprites/bank/normal/...</td>\n",
       "      <td>['https://img.pokemondb.net/artwork/ivysaur.jp...</td>\n",
       "    </tr>\n",
       "    <tr>\n",
       "      <th>2</th>\n",
       "      <td>#003</td>\n",
       "      <td>venusaur</td>\n",
       "      <td>Grass</td>\n",
       "      <td>Poison</td>\n",
       "      <td>https://img.pokemondb.net/sprites/bank/normal/...</td>\n",
       "      <td>['https://img.pokemondb.net/artwork/venusaur.j...</td>\n",
       "    </tr>\n",
       "    <tr>\n",
       "      <th>3</th>\n",
       "      <td>#004</td>\n",
       "      <td>charmander</td>\n",
       "      <td>Fire</td>\n",
       "      <td>NaN</td>\n",
       "      <td>https://img.pokemondb.net/sprites/bank/normal/...</td>\n",
       "      <td>['https://img.pokemondb.net/artwork/charmander...</td>\n",
       "    </tr>\n",
       "    <tr>\n",
       "      <th>4</th>\n",
       "      <td>#005</td>\n",
       "      <td>charmeleon</td>\n",
       "      <td>Fire</td>\n",
       "      <td>NaN</td>\n",
       "      <td>https://img.pokemondb.net/sprites/bank/normal/...</td>\n",
       "      <td>['https://img.pokemondb.net/artwork/charmeleon...</td>\n",
       "    </tr>\n",
       "    <tr>\n",
       "      <th>...</th>\n",
       "      <td>...</td>\n",
       "      <td>...</td>\n",
       "      <td>...</td>\n",
       "      <td>...</td>\n",
       "      <td>...</td>\n",
       "      <td>...</td>\n",
       "    </tr>\n",
       "    <tr>\n",
       "      <th>893</th>\n",
       "      <td>#894</td>\n",
       "      <td>regieleki</td>\n",
       "      <td>Electric</td>\n",
       "      <td>NaN</td>\n",
       "      <td>https://img.pokemondb.net/sprites/sword-shield...</td>\n",
       "      <td>['https://img.pokemondb.net/artwork/regieleki....</td>\n",
       "    </tr>\n",
       "    <tr>\n",
       "      <th>894</th>\n",
       "      <td>#895</td>\n",
       "      <td>regidrago</td>\n",
       "      <td>Dragon</td>\n",
       "      <td>NaN</td>\n",
       "      <td>https://img.pokemondb.net/sprites/sword-shield...</td>\n",
       "      <td>['https://img.pokemondb.net/artwork/regidrago....</td>\n",
       "    </tr>\n",
       "    <tr>\n",
       "      <th>895</th>\n",
       "      <td>#896</td>\n",
       "      <td>glastrier</td>\n",
       "      <td>Ice</td>\n",
       "      <td>NaN</td>\n",
       "      <td>https://img.pokemondb.net/sprites/sword-shield...</td>\n",
       "      <td>['https://img.pokemondb.net/artwork/glastrier....</td>\n",
       "    </tr>\n",
       "    <tr>\n",
       "      <th>896</th>\n",
       "      <td>#897</td>\n",
       "      <td>spectrier</td>\n",
       "      <td>Ghost</td>\n",
       "      <td>NaN</td>\n",
       "      <td>https://img.pokemondb.net/sprites/sword-shield...</td>\n",
       "      <td>['https://img.pokemondb.net/artwork/spectrier....</td>\n",
       "    </tr>\n",
       "    <tr>\n",
       "      <th>897</th>\n",
       "      <td>#898</td>\n",
       "      <td>calyrex</td>\n",
       "      <td>Psychic</td>\n",
       "      <td>Grass</td>\n",
       "      <td>https://img.pokemondb.net/sprites/sword-shield...</td>\n",
       "      <td>['https://img.pokemondb.net/artwork/calyrex.jp...</td>\n",
       "    </tr>\n",
       "  </tbody>\n",
       "</table>\n",
       "<p>898 rows × 6 columns</p>\n",
       "</div>"
      ],
      "text/plain": [
       "       ID        Name Primary Type Secondary Type  \\\n",
       "0    #001   bulbasaur        Grass         Poison   \n",
       "1    #002     ivysaur        Grass         Poison   \n",
       "2    #003    venusaur        Grass         Poison   \n",
       "3    #004  charmander         Fire            NaN   \n",
       "4    #005  charmeleon         Fire            NaN   \n",
       "..    ...         ...          ...            ...   \n",
       "893  #894   regieleki     Electric            NaN   \n",
       "894  #895   regidrago       Dragon            NaN   \n",
       "895  #896   glastrier          Ice            NaN   \n",
       "896  #897   spectrier        Ghost            NaN   \n",
       "897  #898     calyrex      Psychic          Grass   \n",
       "\n",
       "                                                 Image  \\\n",
       "0    https://img.pokemondb.net/sprites/bank/normal/...   \n",
       "1    https://img.pokemondb.net/sprites/bank/normal/...   \n",
       "2    https://img.pokemondb.net/sprites/bank/normal/...   \n",
       "3    https://img.pokemondb.net/sprites/bank/normal/...   \n",
       "4    https://img.pokemondb.net/sprites/bank/normal/...   \n",
       "..                                                 ...   \n",
       "893  https://img.pokemondb.net/sprites/sword-shield...   \n",
       "894  https://img.pokemondb.net/sprites/sword-shield...   \n",
       "895  https://img.pokemondb.net/sprites/sword-shield...   \n",
       "896  https://img.pokemondb.net/sprites/sword-shield...   \n",
       "897  https://img.pokemondb.net/sprites/sword-shield...   \n",
       "\n",
       "                                     Additional Images  \n",
       "0    ['https://img.pokemondb.net/artwork/bulbasaur....  \n",
       "1    ['https://img.pokemondb.net/artwork/ivysaur.jp...  \n",
       "2    ['https://img.pokemondb.net/artwork/venusaur.j...  \n",
       "3    ['https://img.pokemondb.net/artwork/charmander...  \n",
       "4    ['https://img.pokemondb.net/artwork/charmeleon...  \n",
       "..                                                 ...  \n",
       "893  ['https://img.pokemondb.net/artwork/regieleki....  \n",
       "894  ['https://img.pokemondb.net/artwork/regidrago....  \n",
       "895  ['https://img.pokemondb.net/artwork/glastrier....  \n",
       "896  ['https://img.pokemondb.net/artwork/spectrier....  \n",
       "897  ['https://img.pokemondb.net/artwork/calyrex.jp...  \n",
       "\n",
       "[898 rows x 6 columns]"
      ]
     },
     "execution_count": 3,
     "metadata": {},
     "output_type": "execute_result"
    }
   ],
   "source": [
    "df = pd.read_csv('../data/data_final.csv')\n",
    "df"
   ]
  },
  {
   "cell_type": "markdown",
   "id": "197795d4",
   "metadata": {},
   "source": [
    "## Functions for Retrieving Images"
   ]
  },
  {
   "cell_type": "code",
   "execution_count": 4,
   "id": "02e77bce",
   "metadata": {},
   "outputs": [],
   "source": [
    "def get_file_paths(path):\n",
    "    '''\n",
    "    Takes a folder path and returns a set of all file paths of .jpg in the folders\n",
    "    Input: Folder path\n",
    "    '''\n",
    "    file_set = set()\n",
    "\n",
    "    for direct, _, files in os.walk(path):\n",
    "        for file_name in files:\n",
    "            rel_dir = os.path.relpath(direct, path)\n",
    "            rel_file = os.path.join(rel_dir, file_name)\n",
    "            if '.png' not in rel_file:\n",
    "                continue\n",
    "            file_set.add(str(path)+rel_file)\n",
    "\n",
    "    return file_set\n",
    "\n",
    "def one_hotify(y, n_classes=None):\n",
    "    '''Convert array of integers to one-hot format;\n",
    "    The new dimension is added at the end.'''\n",
    "    if n_classes is None:\n",
    "        n_classes = max(y) + 1\n",
    "    labels = np.arange(n_classes)\n",
    "    y = y[..., None]\n",
    "    return (y == labels).astype(int)\n",
    "\n",
    "def load_images(path,size=(256,256)):\n",
    "    \n",
    "    file_paths = get_file_paths(path)\n",
    "    \n",
    "    images = []\n",
    "    y = []\n",
    "    for file in file_paths:\n",
    "        img = keras.preprocessing.image.load_img(file, target_size=size)\n",
    "        img_arr = keras.preprocessing.image.img_to_array(img.convert('RGBA'))[:,:,0:3]\n",
    "        images.append(img_arr/255)\n",
    "        y.append(file.split('/')[-1].split('_')[0])\n",
    "    return images, y"
   ]
  },
  {
   "cell_type": "code",
   "execution_count": 5,
   "id": "850c5668",
   "metadata": {},
   "outputs": [],
   "source": [
    "pokedict = {}\n",
    "for i in range(df.shape[0]):\n",
    "    if str(df['Secondary Type'].loc[i]) != 'nan':\n",
    "        pokedict[df['Name'].loc[i]] = [df['Primary Type'].loc[i], df['Secondary Type'].loc[i]]\n",
    "    else:\n",
    "        pokedict[df['Name'].loc[i]] = [df['Primary Type'].loc[i]]"
   ]
  },
  {
   "cell_type": "markdown",
   "id": "70141f67",
   "metadata": {},
   "source": [
    "## Read Data"
   ]
  },
  {
   "cell_type": "code",
   "execution_count": 6,
   "id": "70d8dc16",
   "metadata": {},
   "outputs": [],
   "source": [
    "X,y_names = load_images(('../images/'))\n",
    "X = np.array(X)"
   ]
  },
  {
   "cell_type": "code",
   "execution_count": 7,
   "id": "4f909258",
   "metadata": {},
   "outputs": [
    {
     "data": {
      "text/html": [
       "<div>\n",
       "<style scoped>\n",
       "    .dataframe tbody tr th:only-of-type {\n",
       "        vertical-align: middle;\n",
       "    }\n",
       "\n",
       "    .dataframe tbody tr th {\n",
       "        vertical-align: top;\n",
       "    }\n",
       "\n",
       "    .dataframe thead th {\n",
       "        text-align: right;\n",
       "    }\n",
       "</style>\n",
       "<table border=\"1\" class=\"dataframe\">\n",
       "  <thead>\n",
       "    <tr style=\"text-align: right;\">\n",
       "      <th></th>\n",
       "      <th>Bug</th>\n",
       "      <th>Dark</th>\n",
       "      <th>Dragon</th>\n",
       "      <th>Electric</th>\n",
       "      <th>Fairy</th>\n",
       "      <th>Fighting</th>\n",
       "      <th>Fire</th>\n",
       "      <th>Flying</th>\n",
       "      <th>Ghost</th>\n",
       "      <th>Grass</th>\n",
       "      <th>Ground</th>\n",
       "      <th>Ice</th>\n",
       "      <th>Normal</th>\n",
       "      <th>Poison</th>\n",
       "      <th>Psychic</th>\n",
       "      <th>Rock</th>\n",
       "      <th>Steel</th>\n",
       "      <th>Water</th>\n",
       "    </tr>\n",
       "  </thead>\n",
       "  <tbody>\n",
       "    <tr>\n",
       "      <th>0</th>\n",
       "      <td>0</td>\n",
       "      <td>0</td>\n",
       "      <td>0</td>\n",
       "      <td>0</td>\n",
       "      <td>0</td>\n",
       "      <td>0</td>\n",
       "      <td>0</td>\n",
       "      <td>0</td>\n",
       "      <td>0</td>\n",
       "      <td>0</td>\n",
       "      <td>1</td>\n",
       "      <td>0</td>\n",
       "      <td>0</td>\n",
       "      <td>0</td>\n",
       "      <td>0</td>\n",
       "      <td>1</td>\n",
       "      <td>0</td>\n",
       "      <td>0</td>\n",
       "    </tr>\n",
       "    <tr>\n",
       "      <th>1</th>\n",
       "      <td>1</td>\n",
       "      <td>0</td>\n",
       "      <td>0</td>\n",
       "      <td>1</td>\n",
       "      <td>0</td>\n",
       "      <td>0</td>\n",
       "      <td>0</td>\n",
       "      <td>0</td>\n",
       "      <td>0</td>\n",
       "      <td>0</td>\n",
       "      <td>0</td>\n",
       "      <td>0</td>\n",
       "      <td>0</td>\n",
       "      <td>0</td>\n",
       "      <td>0</td>\n",
       "      <td>0</td>\n",
       "      <td>0</td>\n",
       "      <td>0</td>\n",
       "    </tr>\n",
       "    <tr>\n",
       "      <th>2</th>\n",
       "      <td>0</td>\n",
       "      <td>1</td>\n",
       "      <td>0</td>\n",
       "      <td>0</td>\n",
       "      <td>0</td>\n",
       "      <td>0</td>\n",
       "      <td>0</td>\n",
       "      <td>0</td>\n",
       "      <td>0</td>\n",
       "      <td>1</td>\n",
       "      <td>0</td>\n",
       "      <td>0</td>\n",
       "      <td>0</td>\n",
       "      <td>0</td>\n",
       "      <td>0</td>\n",
       "      <td>0</td>\n",
       "      <td>0</td>\n",
       "      <td>0</td>\n",
       "    </tr>\n",
       "    <tr>\n",
       "      <th>3</th>\n",
       "      <td>0</td>\n",
       "      <td>0</td>\n",
       "      <td>0</td>\n",
       "      <td>0</td>\n",
       "      <td>1</td>\n",
       "      <td>0</td>\n",
       "      <td>0</td>\n",
       "      <td>0</td>\n",
       "      <td>0</td>\n",
       "      <td>0</td>\n",
       "      <td>0</td>\n",
       "      <td>0</td>\n",
       "      <td>0</td>\n",
       "      <td>0</td>\n",
       "      <td>0</td>\n",
       "      <td>0</td>\n",
       "      <td>0</td>\n",
       "      <td>0</td>\n",
       "    </tr>\n",
       "    <tr>\n",
       "      <th>4</th>\n",
       "      <td>0</td>\n",
       "      <td>1</td>\n",
       "      <td>0</td>\n",
       "      <td>0</td>\n",
       "      <td>0</td>\n",
       "      <td>0</td>\n",
       "      <td>0</td>\n",
       "      <td>0</td>\n",
       "      <td>0</td>\n",
       "      <td>0</td>\n",
       "      <td>0</td>\n",
       "      <td>1</td>\n",
       "      <td>0</td>\n",
       "      <td>0</td>\n",
       "      <td>0</td>\n",
       "      <td>0</td>\n",
       "      <td>0</td>\n",
       "      <td>0</td>\n",
       "    </tr>\n",
       "    <tr>\n",
       "      <th>...</th>\n",
       "      <td>...</td>\n",
       "      <td>...</td>\n",
       "      <td>...</td>\n",
       "      <td>...</td>\n",
       "      <td>...</td>\n",
       "      <td>...</td>\n",
       "      <td>...</td>\n",
       "      <td>...</td>\n",
       "      <td>...</td>\n",
       "      <td>...</td>\n",
       "      <td>...</td>\n",
       "      <td>...</td>\n",
       "      <td>...</td>\n",
       "      <td>...</td>\n",
       "      <td>...</td>\n",
       "      <td>...</td>\n",
       "      <td>...</td>\n",
       "      <td>...</td>\n",
       "    </tr>\n",
       "    <tr>\n",
       "      <th>8355</th>\n",
       "      <td>0</td>\n",
       "      <td>0</td>\n",
       "      <td>0</td>\n",
       "      <td>0</td>\n",
       "      <td>0</td>\n",
       "      <td>0</td>\n",
       "      <td>0</td>\n",
       "      <td>0</td>\n",
       "      <td>0</td>\n",
       "      <td>0</td>\n",
       "      <td>0</td>\n",
       "      <td>0</td>\n",
       "      <td>1</td>\n",
       "      <td>0</td>\n",
       "      <td>0</td>\n",
       "      <td>0</td>\n",
       "      <td>0</td>\n",
       "      <td>0</td>\n",
       "    </tr>\n",
       "    <tr>\n",
       "      <th>8356</th>\n",
       "      <td>0</td>\n",
       "      <td>0</td>\n",
       "      <td>0</td>\n",
       "      <td>0</td>\n",
       "      <td>0</td>\n",
       "      <td>0</td>\n",
       "      <td>0</td>\n",
       "      <td>0</td>\n",
       "      <td>0</td>\n",
       "      <td>0</td>\n",
       "      <td>1</td>\n",
       "      <td>0</td>\n",
       "      <td>0</td>\n",
       "      <td>1</td>\n",
       "      <td>0</td>\n",
       "      <td>0</td>\n",
       "      <td>0</td>\n",
       "      <td>0</td>\n",
       "    </tr>\n",
       "    <tr>\n",
       "      <th>8357</th>\n",
       "      <td>1</td>\n",
       "      <td>0</td>\n",
       "      <td>0</td>\n",
       "      <td>0</td>\n",
       "      <td>0</td>\n",
       "      <td>0</td>\n",
       "      <td>0</td>\n",
       "      <td>0</td>\n",
       "      <td>0</td>\n",
       "      <td>0</td>\n",
       "      <td>0</td>\n",
       "      <td>0</td>\n",
       "      <td>0</td>\n",
       "      <td>0</td>\n",
       "      <td>0</td>\n",
       "      <td>1</td>\n",
       "      <td>0</td>\n",
       "      <td>0</td>\n",
       "    </tr>\n",
       "    <tr>\n",
       "      <th>8358</th>\n",
       "      <td>0</td>\n",
       "      <td>0</td>\n",
       "      <td>0</td>\n",
       "      <td>0</td>\n",
       "      <td>0</td>\n",
       "      <td>0</td>\n",
       "      <td>0</td>\n",
       "      <td>0</td>\n",
       "      <td>0</td>\n",
       "      <td>0</td>\n",
       "      <td>0</td>\n",
       "      <td>0</td>\n",
       "      <td>0</td>\n",
       "      <td>0</td>\n",
       "      <td>1</td>\n",
       "      <td>0</td>\n",
       "      <td>1</td>\n",
       "      <td>0</td>\n",
       "    </tr>\n",
       "    <tr>\n",
       "      <th>8359</th>\n",
       "      <td>0</td>\n",
       "      <td>1</td>\n",
       "      <td>0</td>\n",
       "      <td>0</td>\n",
       "      <td>0</td>\n",
       "      <td>0</td>\n",
       "      <td>0</td>\n",
       "      <td>0</td>\n",
       "      <td>1</td>\n",
       "      <td>0</td>\n",
       "      <td>0</td>\n",
       "      <td>0</td>\n",
       "      <td>0</td>\n",
       "      <td>0</td>\n",
       "      <td>0</td>\n",
       "      <td>0</td>\n",
       "      <td>0</td>\n",
       "      <td>0</td>\n",
       "    </tr>\n",
       "  </tbody>\n",
       "</table>\n",
       "<p>8360 rows × 18 columns</p>\n",
       "</div>"
      ],
      "text/plain": [
       "      Bug  Dark  Dragon  Electric  Fairy  Fighting  Fire  Flying  Ghost  \\\n",
       "0       0     0       0         0      0         0     0       0      0   \n",
       "1       1     0       0         1      0         0     0       0      0   \n",
       "2       0     1       0         0      0         0     0       0      0   \n",
       "3       0     0       0         0      1         0     0       0      0   \n",
       "4       0     1       0         0      0         0     0       0      0   \n",
       "...   ...   ...     ...       ...    ...       ...   ...     ...    ...   \n",
       "8355    0     0       0         0      0         0     0       0      0   \n",
       "8356    0     0       0         0      0         0     0       0      0   \n",
       "8357    1     0       0         0      0         0     0       0      0   \n",
       "8358    0     0       0         0      0         0     0       0      0   \n",
       "8359    0     1       0         0      0         0     0       0      1   \n",
       "\n",
       "      Grass  Ground  Ice  Normal  Poison  Psychic  Rock  Steel  Water  \n",
       "0         0       1    0       0       0        0     1      0      0  \n",
       "1         0       0    0       0       0        0     0      0      0  \n",
       "2         1       0    0       0       0        0     0      0      0  \n",
       "3         0       0    0       0       0        0     0      0      0  \n",
       "4         0       0    1       0       0        0     0      0      0  \n",
       "...     ...     ...  ...     ...     ...      ...   ...    ...    ...  \n",
       "8355      0       0    0       1       0        0     0      0      0  \n",
       "8356      0       1    0       0       1        0     0      0      0  \n",
       "8357      0       0    0       0       0        0     1      0      0  \n",
       "8358      0       0    0       0       0        1     0      1      0  \n",
       "8359      0       0    0       0       0        0     0      0      0  \n",
       "\n",
       "[8360 rows x 18 columns]"
      ]
     },
     "execution_count": 7,
     "metadata": {},
     "output_type": "execute_result"
    }
   ],
   "source": [
    "y_type = []\n",
    "for name in y_names:\n",
    "    y_type.append(pokedict[name])\n",
    "    \n",
    "y = pd.Series(y_type)\n",
    "y = pd.get_dummies(y.apply(pd.Series).stack()).sum(level=0)\n",
    "y"
   ]
  },
  {
   "cell_type": "markdown",
   "id": "2ceeb831",
   "metadata": {},
   "source": [
    "## Split into Train, Test, and Validation Sets"
   ]
  },
  {
   "cell_type": "code",
   "execution_count": 11,
   "id": "0821811c",
   "metadata": {},
   "outputs": [],
   "source": [
    "X_train, X_test, y_train, y_test = train_test_split(X, y, random_state=46, test_size=0.2,stratify = y)"
   ]
  },
  {
   "cell_type": "code",
   "execution_count": 12,
   "id": "e6e1bb15",
   "metadata": {},
   "outputs": [],
   "source": [
    "X_train, X_val, y_train, y_val = train_test_split(X_train, y_train, random_state=46, test_size=0.2,stratify = y_train)"
   ]
  },
  {
   "cell_type": "markdown",
   "id": "e9281fe0",
   "metadata": {},
   "source": [
    "## Determine Class Weights"
   ]
  },
  {
   "cell_type": "code",
   "execution_count": 13,
   "id": "0a186468",
   "metadata": {},
   "outputs": [],
   "source": [
    "class_dict = {}\n",
    "sums = np.sum(y, axis = 0)\n",
    "for i in range(y.shape[1]):\n",
    "    class_dict[i] = sums[i]"
   ]
  },
  {
   "cell_type": "code",
   "execution_count": 15,
   "id": "e7d09c5e",
   "metadata": {},
   "outputs": [],
   "source": [
    "for key,value in class_dict.items():\n",
    "    class_dict[key] = 1462/value"
   ]
  },
  {
   "cell_type": "code",
   "execution_count": 168,
   "id": "e310bb90",
   "metadata": {},
   "outputs": [],
   "source": [
    "def create_neural_net(model):\n",
    "    model.add(keras.layers.Conv2D(16, (3, 3), activation='relu', input_shape=(256, 256, 3)))\n",
    "    model.add(keras.layers.MaxPooling2D(pool_size=(2, 2)))\n",
    "    model.add(keras.layers.Dropout(0.25))\n",
    "\n",
    "    model.add(keras.layers.Conv2D(32, (3, 3), activation='relu'))\n",
    "    model.add(keras.layers.MaxPooling2D(pool_size=(2, 2)))\n",
    "    model.add(keras.layers.Dropout(0.25))\n",
    "\n",
    "    model.add(keras.layers.Conv2D(64, (3, 3), activation='relu'))\n",
    "    model.add(keras.layers.MaxPooling2D(pool_size=(2, 2)))\n",
    "    model.add(keras.layers.Dropout(0.25))\n",
    "\n",
    "    model.add(keras.layers.Conv2D(64, (3, 3), activation='relu'))\n",
    "    model.add(keras.layers.MaxPooling2D(pool_size=(2, 2)))\n",
    "    model.add(keras.layers.Dropout(0.25))\n",
    "\n",
    "    model.add(keras.layers.Flatten())\n",
    "    model.add(keras.layers.Dense(128, activation='relu'))\n",
    "    model.add(keras.layers.Dropout(0.5))\n",
    "    model.add(keras.layers.Dense(64, activation='relu'))\n",
    "    model.add(keras.layers.Dropout(0.5))\n",
    "    model.add(keras.layers.Dense(18,\n",
    "                    activation='sigmoid',\n",
    "                    kernel_regularizer=keras.regularizers.l2(0.01)))\n",
    "\n",
    "    model.compile(optimizer='adam',\n",
    "                  loss='binary_crossentropy',\n",
    "                  metrics=['accuracy', tf.keras.metrics.Precision(thresholds = 0.4),tf.keras.metrics.Recall(thresholds = 0.4)])"
   ]
  },
  {
   "cell_type": "code",
   "execution_count": 21,
   "id": "1153f5f2",
   "metadata": {},
   "outputs": [],
   "source": [
    "final_model = keras.models.Sequential()\n",
    "create_neural_net(final_model)"
   ]
  },
  {
   "cell_type": "code",
   "execution_count": 22,
   "id": "188cd87f",
   "metadata": {
    "scrolled": false
   },
   "outputs": [
    {
     "name": "stdout",
     "output_type": "stream",
     "text": [
      "WARNING:tensorflow:From /Users/JosephLaurel/opt/anaconda3/lib/python3.8/site-packages/tensorflow/python/ops/array_ops.py:5043: calling gather (from tensorflow.python.ops.array_ops) with validate_indices is deprecated and will be removed in a future version.\n",
      "Instructions for updating:\n",
      "The `validate_indices` argument has no effect. Indices are always validated on CPU and never validated on GPU.\n",
      "Epoch 1/200\n",
      "335/335 [==============================] - 140s 414ms/step - loss: 0.9016 - accuracy: 0.0493 - precision: 0.0975 - recall: 0.0723 - val_loss: 0.3704 - val_accuracy: 0.0531 - val_precision: 0.0000e+00 - val_recall: 0.0000e+00\n",
      "Epoch 2/200\n",
      "335/335 [==============================] - 116s 348ms/step - loss: 0.7032 - accuracy: 0.0587 - precision: 0.1753 - recall: 0.0019 - val_loss: 0.3319 - val_accuracy: 0.1016 - val_precision: 0.0000e+00 - val_recall: 0.0000e+00\n",
      "Epoch 3/200\n",
      "335/335 [==============================] - 121s 361ms/step - loss: 0.6698 - accuracy: 0.0665 - precision: 0.0000e+00 - recall: 0.0000e+00 - val_loss: 0.3236 - val_accuracy: 0.0531 - val_precision: 0.0000e+00 - val_recall: 0.0000e+00\n",
      "Epoch 4/200\n",
      "335/335 [==============================] - 141s 420ms/step - loss: 0.6583 - accuracy: 0.0628 - precision: 0.0000e+00 - recall: 0.0000e+00 - val_loss: 0.3138 - val_accuracy: 0.0531 - val_precision: 0.0000e+00 - val_recall: 0.0000e+00\n",
      "Epoch 5/200\n",
      "335/335 [==============================] - 143s 428ms/step - loss: 0.6520 - accuracy: 0.0596 - precision: 0.0000e+00 - recall: 0.0000e+00 - val_loss: 0.3116 - val_accuracy: 0.0531 - val_precision: 0.0000e+00 - val_recall: 0.0000e+00\n",
      "Epoch 6/200\n",
      "335/335 [==============================] - 135s 404ms/step - loss: 0.6476 - accuracy: 0.0632 - precision: 0.0000e+00 - recall: 0.0000e+00 - val_loss: 0.3118 - val_accuracy: 0.0531 - val_precision: 0.0000e+00 - val_recall: 0.0000e+00\n",
      "Epoch 7/200\n",
      "335/335 [==============================] - 139s 416ms/step - loss: 0.6461 - accuracy: 0.0564 - precision: 0.0000e+00 - recall: 0.0000e+00 - val_loss: 0.3108 - val_accuracy: 0.1016 - val_precision: 0.0000e+00 - val_recall: 0.0000e+00\n",
      "Epoch 8/200\n",
      "335/335 [==============================] - 133s 396ms/step - loss: 0.6439 - accuracy: 0.0587 - precision: 0.0000e+00 - recall: 0.0000e+00 - val_loss: 0.3118 - val_accuracy: 0.0531 - val_precision: 0.0000e+00 - val_recall: 0.0000e+00\n",
      "Epoch 9/200\n",
      "335/335 [==============================] - 131s 391ms/step - loss: 0.6416 - accuracy: 0.0611 - precision: 0.0000e+00 - recall: 0.0000e+00 - val_loss: 0.3127 - val_accuracy: 0.0531 - val_precision: 0.0000e+00 - val_recall: 0.0000e+00\n",
      "Epoch 10/200\n",
      "335/335 [==============================] - 137s 408ms/step - loss: 0.6413 - accuracy: 0.0611 - precision: 0.0000e+00 - recall: 0.0000e+00 - val_loss: 0.3107 - val_accuracy: 0.0531 - val_precision: 0.0000e+00 - val_recall: 0.0000e+00\n",
      "Epoch 11/200\n",
      "335/335 [==============================] - 138s 411ms/step - loss: 0.6392 - accuracy: 0.0617 - precision: 0.0000e+00 - recall: 0.0000e+00 - val_loss: 0.3095 - val_accuracy: 0.0531 - val_precision: 0.0000e+00 - val_recall: 0.0000e+00\n",
      "Epoch 12/200\n",
      "335/335 [==============================] - 131s 390ms/step - loss: 0.6379 - accuracy: 0.0626 - precision: 0.0000e+00 - recall: 0.0000e+00 - val_loss: 0.3105 - val_accuracy: 0.0531 - val_precision: 0.0000e+00 - val_recall: 0.0000e+00\n",
      "Epoch 13/200\n",
      "335/335 [==============================] - 131s 390ms/step - loss: 0.6362 - accuracy: 0.0594 - precision: 0.0000e+00 - recall: 0.0000e+00 - val_loss: 0.3101 - val_accuracy: 0.0531 - val_precision: 0.0000e+00 - val_recall: 0.0000e+00\n",
      "Epoch 14/200\n",
      "335/335 [==============================] - 130s 388ms/step - loss: 0.6356 - accuracy: 0.0613 - precision: 0.0000e+00 - recall: 0.0000e+00 - val_loss: 0.3098 - val_accuracy: 0.0531 - val_precision: 0.0000e+00 - val_recall: 0.0000e+00\n",
      "Epoch 15/200\n",
      "335/335 [==============================] - 132s 393ms/step - loss: 0.6346 - accuracy: 0.0652 - precision: 0.2857 - recall: 2.2517e-04 - val_loss: 0.3100 - val_accuracy: 0.0531 - val_precision: 0.0000e+00 - val_recall: 0.0000e+00\n",
      "Epoch 16/200\n",
      "335/335 [==============================] - 123s 366ms/step - loss: 0.6313 - accuracy: 0.0686 - precision: 0.3333 - recall: 0.0017 - val_loss: 0.3072 - val_accuracy: 0.0725 - val_precision: 0.5000 - val_recall: 0.0014\n",
      "Epoch 17/200\n",
      "335/335 [==============================] - 131s 390ms/step - loss: 0.6287 - accuracy: 0.0721 - precision: 0.2687 - recall: 0.0020 - val_loss: 0.3096 - val_accuracy: 0.0643 - val_precision: 0.0000e+00 - val_recall: 0.0000e+00\n",
      "Epoch 18/200\n",
      "335/335 [==============================] - 125s 372ms/step - loss: 0.6241 - accuracy: 0.0772 - precision: 0.3895 - recall: 0.0042 - val_loss: 0.3110 - val_accuracy: 0.0628 - val_precision: 0.0000e+00 - val_recall: 0.0000e+00\n",
      "Epoch 19/200\n",
      "335/335 [==============================] - 121s 361ms/step - loss: 0.6207 - accuracy: 0.0834 - precision: 0.4651 - recall: 0.0068 - val_loss: 0.3090 - val_accuracy: 0.0605 - val_precision: 1.0000 - val_recall: 4.5045e-04\n",
      "Epoch 20/200\n",
      "335/335 [==============================] - 132s 395ms/step - loss: 0.6186 - accuracy: 0.0832 - precision: 0.4459 - recall: 0.0074 - val_loss: 0.3066 - val_accuracy: 0.0889 - val_precision: 0.5455 - val_recall: 0.0027\n",
      "Epoch 21/200\n",
      "335/335 [==============================] - 144s 429ms/step - loss: 0.6157 - accuracy: 0.0879 - precision: 0.4700 - recall: 0.0115 - val_loss: 0.3044 - val_accuracy: 0.0934 - val_precision: 0.5294 - val_recall: 0.0041\n",
      "Epoch 22/200\n",
      "335/335 [==============================] - 139s 415ms/step - loss: 0.6126 - accuracy: 0.0951 - precision: 0.4553 - recall: 0.0120 - val_loss: 0.3071 - val_accuracy: 0.0919 - val_precision: 0.8333 - val_recall: 0.0023\n",
      "Epoch 23/200\n",
      "335/335 [==============================] - 143s 426ms/step - loss: 0.6074 - accuracy: 0.1030 - precision: 0.5211 - recall: 0.0236 - val_loss: 0.3031 - val_accuracy: 0.1233 - val_precision: 0.7000 - val_recall: 0.0063\n",
      "Epoch 24/200\n",
      "335/335 [==============================] - 138s 411ms/step - loss: 0.6002 - accuracy: 0.1200 - precision: 0.5326 - recall: 0.0349 - val_loss: 0.2997 - val_accuracy: 0.1383 - val_precision: 0.7297 - val_recall: 0.0122\n",
      "Epoch 25/200\n",
      "335/335 [==============================] - 136s 406ms/step - loss: 0.5923 - accuracy: 0.1305 - precision: 0.5437 - recall: 0.0435 - val_loss: 0.2969 - val_accuracy: 0.1226 - val_precision: 0.6471 - val_recall: 0.0248\n",
      "Epoch 26/200\n",
      "335/335 [==============================] - 138s 412ms/step - loss: 0.5834 - accuracy: 0.1518 - precision: 0.5814 - recall: 0.0583 - val_loss: 0.2962 - val_accuracy: 0.1323 - val_precision: 0.6345 - val_recall: 0.0414\n",
      "Epoch 27/200\n",
      "335/335 [==============================] - 139s 416ms/step - loss: 0.5715 - accuracy: 0.1591 - precision: 0.5744 - recall: 0.0757 - val_loss: 0.2920 - val_accuracy: 0.1689 - val_precision: 0.5482 - val_recall: 0.0486\n",
      "Epoch 28/200\n",
      "335/335 [==============================] - 139s 414ms/step - loss: 0.5594 - accuracy: 0.1781 - precision: 0.5833 - recall: 0.0966 - val_loss: 0.2880 - val_accuracy: 0.1712 - val_precision: 0.5762 - val_recall: 0.0698\n",
      "Epoch 29/200\n",
      "335/335 [==============================] - 139s 416ms/step - loss: 0.5505 - accuracy: 0.1877 - precision: 0.5856 - recall: 0.1040 - val_loss: 0.2864 - val_accuracy: 0.1771 - val_precision: 0.6720 - val_recall: 0.0563\n",
      "Epoch 30/200\n",
      "335/335 [==============================] - 148s 441ms/step - loss: 0.5398 - accuracy: 0.2090 - precision: 0.5847 - recall: 0.1251 - val_loss: 0.2820 - val_accuracy: 0.2152 - val_precision: 0.6680 - val_recall: 0.0752\n",
      "Epoch 31/200\n",
      "335/335 [==============================] - 134s 398ms/step - loss: 0.5289 - accuracy: 0.2198 - precision: 0.6036 - recall: 0.1456 - val_loss: 0.2783 - val_accuracy: 0.2070 - val_precision: 0.7195 - val_recall: 0.0716\n",
      "Epoch 32/200\n",
      "335/335 [==============================] - 132s 395ms/step - loss: 0.5205 - accuracy: 0.2202 - precision: 0.5842 - recall: 0.1563 - val_loss: 0.2739 - val_accuracy: 0.2227 - val_precision: 0.7699 - val_recall: 0.0829\n",
      "Epoch 33/200\n",
      "335/335 [==============================] - 140s 419ms/step - loss: 0.5139 - accuracy: 0.2409 - precision: 0.6084 - recall: 0.1671 - val_loss: 0.2704 - val_accuracy: 0.2339 - val_precision: 0.7456 - val_recall: 0.0950\n"
     ]
    },
    {
     "name": "stdout",
     "output_type": "stream",
     "text": [
      "Epoch 34/200\n",
      "335/335 [==============================] - 126s 375ms/step - loss: 0.5051 - accuracy: 0.2495 - precision: 0.6006 - recall: 0.1912 - val_loss: 0.2692 - val_accuracy: 0.2339 - val_precision: 0.7950 - val_recall: 0.0856\n",
      "Epoch 35/200\n",
      "335/335 [==============================] - 110s 328ms/step - loss: 0.4927 - accuracy: 0.2639 - precision: 0.6103 - recall: 0.2059 - val_loss: 0.2653 - val_accuracy: 0.2354 - val_precision: 0.7634 - val_recall: 0.1090\n",
      "Epoch 36/200\n",
      "335/335 [==============================] - 111s 331ms/step - loss: 0.4896 - accuracy: 0.2729 - precision: 0.6112 - recall: 0.2170 - val_loss: 0.2633 - val_accuracy: 0.2549 - val_precision: 0.7560 - val_recall: 0.1284\n",
      "Epoch 37/200\n",
      "335/335 [==============================] - 111s 330ms/step - loss: 0.4803 - accuracy: 0.2826 - precision: 0.6137 - recall: 0.2325 - val_loss: 0.2652 - val_accuracy: 0.2586 - val_precision: 0.7568 - val_recall: 0.1009\n",
      "Epoch 38/200\n",
      "335/335 [==============================] - 110s 329ms/step - loss: 0.4755 - accuracy: 0.2905 - precision: 0.6253 - recall: 0.2427 - val_loss: 0.2618 - val_accuracy: 0.2541 - val_precision: 0.7638 - val_recall: 0.1311\n",
      "Epoch 39/200\n",
      "335/335 [==============================] - 111s 330ms/step - loss: 0.4732 - accuracy: 0.3009 - precision: 0.6201 - recall: 0.2447 - val_loss: 0.2587 - val_accuracy: 0.2713 - val_precision: 0.7891 - val_recall: 0.1500\n",
      "Epoch 40/200\n",
      "335/335 [==============================] - 114s 339ms/step - loss: 0.4639 - accuracy: 0.3079 - precision: 0.6415 - recall: 0.2674 - val_loss: 0.2582 - val_accuracy: 0.2818 - val_precision: 0.7600 - val_recall: 0.1455\n",
      "Epoch 41/200\n",
      "335/335 [==============================] - 110s 327ms/step - loss: 0.4583 - accuracy: 0.3196 - precision: 0.6372 - recall: 0.2794 - val_loss: 0.2542 - val_accuracy: 0.2803 - val_precision: 0.7877 - val_recall: 0.1554\n",
      "Epoch 42/200\n",
      "335/335 [==============================] - 110s 328ms/step - loss: 0.4492 - accuracy: 0.3271 - precision: 0.6470 - recall: 0.2926 - val_loss: 0.2528 - val_accuracy: 0.2952 - val_precision: 0.7972 - val_recall: 0.1559\n",
      "Epoch 43/200\n",
      "335/335 [==============================] - 111s 330ms/step - loss: 0.4453 - accuracy: 0.3331 - precision: 0.6484 - recall: 0.3005 - val_loss: 0.2519 - val_accuracy: 0.2713 - val_precision: 0.8013 - val_recall: 0.1671\n",
      "Epoch 44/200\n",
      "335/335 [==============================] - 109s 327ms/step - loss: 0.4408 - accuracy: 0.3336 - precision: 0.6519 - recall: 0.3121 - val_loss: 0.2513 - val_accuracy: 0.2720 - val_precision: 0.8074 - val_recall: 0.1662\n",
      "Epoch 45/200\n",
      "335/335 [==============================] - 111s 330ms/step - loss: 0.4380 - accuracy: 0.3383 - precision: 0.6569 - recall: 0.3172 - val_loss: 0.2497 - val_accuracy: 0.2907 - val_precision: 0.8065 - val_recall: 0.1671\n",
      "Epoch 46/200\n",
      "335/335 [==============================] - 117s 349ms/step - loss: 0.4328 - accuracy: 0.3393 - precision: 0.6671 - recall: 0.3301 - val_loss: 0.2477 - val_accuracy: 0.2706 - val_precision: 0.7627 - val_recall: 0.1955\n",
      "Epoch 47/200\n",
      "335/335 [==============================] - 110s 326ms/step - loss: 0.4331 - accuracy: 0.3462 - precision: 0.6552 - recall: 0.3306 - val_loss: 0.2465 - val_accuracy: 0.2960 - val_precision: 0.7762 - val_recall: 0.1968\n",
      "Epoch 48/200\n",
      "335/335 [==============================] - 110s 329ms/step - loss: 0.4257 - accuracy: 0.3538 - precision: 0.6694 - recall: 0.3424 - val_loss: 0.2469 - val_accuracy: 0.3072 - val_precision: 0.8115 - val_recall: 0.1901\n",
      "Epoch 49/200\n",
      "335/335 [==============================] - 111s 330ms/step - loss: 0.4207 - accuracy: 0.3564 - precision: 0.6656 - recall: 0.3460 - val_loss: 0.2436 - val_accuracy: 0.2922 - val_precision: 0.8352 - val_recall: 0.2032\n",
      "Epoch 50/200\n",
      "335/335 [==============================] - 111s 330ms/step - loss: 0.4262 - accuracy: 0.3535 - precision: 0.6763 - recall: 0.3507 - val_loss: 0.2456 - val_accuracy: 0.2698 - val_precision: 0.8152 - val_recall: 0.1986\n",
      "Epoch 51/200\n",
      "335/335 [==============================] - 109s 326ms/step - loss: 0.4203 - accuracy: 0.3607 - precision: 0.6798 - recall: 0.3587 - val_loss: 0.2424 - val_accuracy: 0.3079 - val_precision: 0.8428 - val_recall: 0.2005\n",
      "Epoch 52/200\n",
      "335/335 [==============================] - 110s 327ms/step - loss: 0.4205 - accuracy: 0.3619 - precision: 0.6764 - recall: 0.3584 - val_loss: 0.2431 - val_accuracy: 0.2982 - val_precision: 0.8208 - val_recall: 0.2063\n",
      "Epoch 53/200\n",
      "335/335 [==============================] - 110s 327ms/step - loss: 0.4141 - accuracy: 0.3707 - precision: 0.6816 - recall: 0.3742 - val_loss: 0.2429 - val_accuracy: 0.2975 - val_precision: 0.8566 - val_recall: 0.2072\n",
      "Epoch 54/200\n",
      "335/335 [==============================] - 110s 328ms/step - loss: 0.4116 - accuracy: 0.3688 - precision: 0.6739 - recall: 0.3639 - val_loss: 0.2409 - val_accuracy: 0.3064 - val_precision: 0.8404 - val_recall: 0.2230\n",
      "Epoch 55/200\n",
      "335/335 [==============================] - 111s 330ms/step - loss: 0.4023 - accuracy: 0.3873 - precision: 0.6954 - recall: 0.3872 - val_loss: 0.2379 - val_accuracy: 0.2952 - val_precision: 0.8153 - val_recall: 0.2347\n",
      "Epoch 56/200\n",
      "335/335 [==============================] - 110s 328ms/step - loss: 0.4040 - accuracy: 0.3656 - precision: 0.6842 - recall: 0.3858 - val_loss: 0.2398 - val_accuracy: 0.2862 - val_precision: 0.8266 - val_recall: 0.2212\n",
      "Epoch 57/200\n",
      "335/335 [==============================] - 111s 330ms/step - loss: 0.4027 - accuracy: 0.3800 - precision: 0.6827 - recall: 0.3840 - val_loss: 0.2403 - val_accuracy: 0.2975 - val_precision: 0.8608 - val_recall: 0.2117\n",
      "Epoch 58/200\n",
      "335/335 [==============================] - 111s 330ms/step - loss: 0.4019 - accuracy: 0.3875 - precision: 0.6995 - recall: 0.3882 - val_loss: 0.2371 - val_accuracy: 0.2930 - val_precision: 0.8347 - val_recall: 0.2297\n",
      "Epoch 59/200\n",
      "335/335 [==============================] - 111s 331ms/step - loss: 0.3981 - accuracy: 0.3809 - precision: 0.6933 - recall: 0.3989 - val_loss: 0.2351 - val_accuracy: 0.3012 - val_precision: 0.8331 - val_recall: 0.2428\n",
      "Epoch 60/200\n",
      "335/335 [==============================] - 110s 329ms/step - loss: 0.3966 - accuracy: 0.3991 - precision: 0.7004 - recall: 0.4027 - val_loss: 0.2377 - val_accuracy: 0.2960 - val_precision: 0.8258 - val_recall: 0.2306\n",
      "Epoch 61/200\n",
      "335/335 [==============================] - 110s 330ms/step - loss: 0.3936 - accuracy: 0.3921 - precision: 0.6990 - recall: 0.4076 - val_loss: 0.2347 - val_accuracy: 0.2915 - val_precision: 0.8349 - val_recall: 0.2392\n",
      "Epoch 62/200\n",
      "335/335 [==============================] - 110s 329ms/step - loss: 0.3910 - accuracy: 0.3998 - precision: 0.7029 - recall: 0.4168 - val_loss: 0.2345 - val_accuracy: 0.3333 - val_precision: 0.8415 - val_recall: 0.2486\n",
      "Epoch 63/200\n",
      "335/335 [==============================] - 110s 328ms/step - loss: 0.3878 - accuracy: 0.4047 - precision: 0.6995 - recall: 0.4172 - val_loss: 0.2314 - val_accuracy: 0.2997 - val_precision: 0.8194 - val_recall: 0.2554\n",
      "Epoch 64/200\n",
      "335/335 [==============================] - 110s 328ms/step - loss: 0.3873 - accuracy: 0.3955 - precision: 0.7034 - recall: 0.4229 - val_loss: 0.2306 - val_accuracy: 0.3124 - val_precision: 0.8393 - val_recall: 0.2730\n",
      "Epoch 65/200\n",
      "335/335 [==============================] - 111s 330ms/step - loss: 0.3851 - accuracy: 0.4052 - precision: 0.7064 - recall: 0.4219 - val_loss: 0.2348 - val_accuracy: 0.3117 - val_precision: 0.8333 - val_recall: 0.2320\n",
      "Epoch 66/200\n",
      "335/335 [==============================] - 110s 329ms/step - loss: 0.3824 - accuracy: 0.4079 - precision: 0.7033 - recall: 0.4305 - val_loss: 0.2303 - val_accuracy: 0.3176 - val_precision: 0.8507 - val_recall: 0.2644\n",
      "Epoch 67/200\n",
      "335/335 [==============================] - 110s 328ms/step - loss: 0.3820 - accuracy: 0.4041 - precision: 0.7133 - recall: 0.4333 - val_loss: 0.2295 - val_accuracy: 0.3154 - val_precision: 0.8490 - val_recall: 0.2734\n",
      "Epoch 68/200\n",
      "335/335 [==============================] - 110s 328ms/step - loss: 0.3750 - accuracy: 0.4077 - precision: 0.7145 - recall: 0.4427 - val_loss: 0.2283 - val_accuracy: 0.3199 - val_precision: 0.8203 - val_recall: 0.2919\n",
      "Epoch 69/200\n",
      "335/335 [==============================] - 110s 327ms/step - loss: 0.3770 - accuracy: 0.4256 - precision: 0.7155 - recall: 0.4394 - val_loss: 0.2285 - val_accuracy: 0.3124 - val_precision: 0.8422 - val_recall: 0.2838\n"
     ]
    },
    {
     "name": "stdout",
     "output_type": "stream",
     "text": [
      "Epoch 70/200\n",
      "335/335 [==============================] - 110s 327ms/step - loss: 0.3708 - accuracy: 0.4159 - precision: 0.7122 - recall: 0.4522 - val_loss: 0.2288 - val_accuracy: 0.3109 - val_precision: 0.8502 - val_recall: 0.2761\n",
      "Epoch 71/200\n",
      "335/335 [==============================] - 109s 326ms/step - loss: 0.3765 - accuracy: 0.4127 - precision: 0.7120 - recall: 0.4471 - val_loss: 0.2313 - val_accuracy: 0.2967 - val_precision: 0.8552 - val_recall: 0.2554\n",
      "Epoch 72/200\n",
      "335/335 [==============================] - 110s 329ms/step - loss: 0.3741 - accuracy: 0.4138 - precision: 0.7158 - recall: 0.4449 - val_loss: 0.2267 - val_accuracy: 0.3259 - val_precision: 0.8614 - val_recall: 0.2883\n",
      "Epoch 73/200\n",
      "335/335 [==============================] - 109s 326ms/step - loss: 0.3729 - accuracy: 0.4230 - precision: 0.7225 - recall: 0.4519 - val_loss: 0.2277 - val_accuracy: 0.3049 - val_precision: 0.8554 - val_recall: 0.2905\n",
      "Epoch 74/200\n",
      "335/335 [==============================] - 110s 326ms/step - loss: 0.3662 - accuracy: 0.4336 - precision: 0.7270 - recall: 0.4653 - val_loss: 0.2275 - val_accuracy: 0.3229 - val_precision: 0.8529 - val_recall: 0.2847\n",
      "Epoch 75/200\n",
      "335/335 [==============================] - 110s 328ms/step - loss: 0.3722 - accuracy: 0.4185 - precision: 0.7188 - recall: 0.4512 - val_loss: 0.2281 - val_accuracy: 0.3169 - val_precision: 0.8623 - val_recall: 0.2707\n",
      "Epoch 76/200\n",
      "335/335 [==============================] - 111s 331ms/step - loss: 0.3675 - accuracy: 0.4247 - precision: 0.7328 - recall: 0.4535 - val_loss: 0.2269 - val_accuracy: 0.2803 - val_precision: 0.8309 - val_recall: 0.3122\n",
      "Epoch 77/200\n",
      "335/335 [==============================] - 110s 329ms/step - loss: 0.3658 - accuracy: 0.4219 - precision: 0.7238 - recall: 0.4619 - val_loss: 0.2264 - val_accuracy: 0.3154 - val_precision: 0.8534 - val_recall: 0.3068\n",
      "Epoch 78/200\n",
      "335/335 [==============================] - 110s 328ms/step - loss: 0.3677 - accuracy: 0.4183 - precision: 0.7298 - recall: 0.4607 - val_loss: 0.2244 - val_accuracy: 0.3356 - val_precision: 0.8584 - val_recall: 0.3005\n",
      "Epoch 79/200\n",
      "335/335 [==============================] - 110s 328ms/step - loss: 0.3617 - accuracy: 0.4243 - precision: 0.7297 - recall: 0.4675 - val_loss: 0.2269 - val_accuracy: 0.3057 - val_precision: 0.8628 - val_recall: 0.2833\n",
      "Epoch 80/200\n",
      "335/335 [==============================] - 110s 328ms/step - loss: 0.3632 - accuracy: 0.4299 - precision: 0.7259 - recall: 0.4658 - val_loss: 0.2280 - val_accuracy: 0.2833 - val_precision: 0.8425 - val_recall: 0.2770\n",
      "Epoch 81/200\n",
      "335/335 [==============================] - 110s 328ms/step - loss: 0.3608 - accuracy: 0.4264 - precision: 0.7345 - recall: 0.4738 - val_loss: 0.2230 - val_accuracy: 0.3072 - val_precision: 0.8070 - val_recall: 0.3203\n",
      "Epoch 82/200\n",
      "335/335 [==============================] - 111s 330ms/step - loss: 0.3629 - accuracy: 0.4297 - precision: 0.7288 - recall: 0.4722 - val_loss: 0.2264 - val_accuracy: 0.2728 - val_precision: 0.8348 - val_recall: 0.2982\n",
      "Epoch 83/200\n",
      "335/335 [==============================] - 109s 326ms/step - loss: 0.3581 - accuracy: 0.4361 - precision: 0.7254 - recall: 0.4777 - val_loss: 0.2259 - val_accuracy: 0.2750 - val_precision: 0.8544 - val_recall: 0.2856\n",
      "Epoch 84/200\n",
      "335/335 [==============================] - 110s 328ms/step - loss: 0.3582 - accuracy: 0.4288 - precision: 0.7299 - recall: 0.4797 - val_loss: 0.2222 - val_accuracy: 0.3169 - val_precision: 0.8648 - val_recall: 0.3140\n",
      "Epoch 85/200\n",
      "335/335 [==============================] - 111s 330ms/step - loss: 0.3567 - accuracy: 0.4424 - precision: 0.7325 - recall: 0.4854 - val_loss: 0.2206 - val_accuracy: 0.3012 - val_precision: 0.8448 - val_recall: 0.3162\n",
      "Epoch 86/200\n",
      "335/335 [==============================] - 112s 335ms/step - loss: 0.3560 - accuracy: 0.4288 - precision: 0.7380 - recall: 0.4877 - val_loss: 0.2185 - val_accuracy: 0.3161 - val_precision: 0.8136 - val_recall: 0.3342\n",
      "Epoch 87/200\n",
      "335/335 [==============================] - 110s 328ms/step - loss: 0.3521 - accuracy: 0.4439 - precision: 0.7371 - recall: 0.4936 - val_loss: 0.2210 - val_accuracy: 0.3079 - val_precision: 0.8530 - val_recall: 0.3216\n",
      "Epoch 88/200\n",
      "335/335 [==============================] - 110s 329ms/step - loss: 0.3579 - accuracy: 0.4428 - precision: 0.7285 - recall: 0.4840 - val_loss: 0.2218 - val_accuracy: 0.2840 - val_precision: 0.8433 - val_recall: 0.3104\n",
      "Epoch 89/200\n",
      "335/335 [==============================] - 110s 327ms/step - loss: 0.3477 - accuracy: 0.4488 - precision: 0.7400 - recall: 0.4935 - val_loss: 0.2224 - val_accuracy: 0.3087 - val_precision: 0.8536 - val_recall: 0.3230\n",
      "Epoch 90/200\n",
      "335/335 [==============================] - 110s 330ms/step - loss: 0.3511 - accuracy: 0.4370 - precision: 0.7331 - recall: 0.4926 - val_loss: 0.2199 - val_accuracy: 0.2930 - val_precision: 0.8426 - val_recall: 0.3329\n",
      "Epoch 91/200\n",
      "335/335 [==============================] - 110s 328ms/step - loss: 0.3451 - accuracy: 0.4488 - precision: 0.7430 - recall: 0.5023 - val_loss: 0.2202 - val_accuracy: 0.3102 - val_precision: 0.8542 - val_recall: 0.3221\n",
      "Epoch 92/200\n",
      "335/335 [==============================] - 110s 330ms/step - loss: 0.3488 - accuracy: 0.4563 - precision: 0.7323 - recall: 0.4974 - val_loss: 0.2177 - val_accuracy: 0.3012 - val_precision: 0.8550 - val_recall: 0.3320\n",
      "Epoch 93/200\n",
      "335/335 [==============================] - 110s 329ms/step - loss: 0.3490 - accuracy: 0.4374 - precision: 0.7386 - recall: 0.4946 - val_loss: 0.2187 - val_accuracy: 0.3161 - val_precision: 0.8531 - val_recall: 0.3270\n",
      "Epoch 94/200\n",
      "335/335 [==============================] - 110s 329ms/step - loss: 0.3459 - accuracy: 0.4471 - precision: 0.7448 - recall: 0.5027 - val_loss: 0.2217 - val_accuracy: 0.3184 - val_precision: 0.8504 - val_recall: 0.3225\n",
      "Epoch 95/200\n",
      "335/335 [==============================] - 110s 328ms/step - loss: 0.3453 - accuracy: 0.4521 - precision: 0.7448 - recall: 0.4985 - val_loss: 0.2218 - val_accuracy: 0.3049 - val_precision: 0.8139 - val_recall: 0.3387\n",
      "Epoch 96/200\n",
      "335/335 [==============================] - 109s 325ms/step - loss: 0.3471 - accuracy: 0.4370 - precision: 0.7345 - recall: 0.5014 - val_loss: 0.2172 - val_accuracy: 0.3311 - val_precision: 0.8337 - val_recall: 0.3230\n",
      "Epoch 97/200\n",
      "335/335 [==============================] - 111s 329ms/step - loss: 0.3431 - accuracy: 0.4555 - precision: 0.7455 - recall: 0.5063 - val_loss: 0.2182 - val_accuracy: 0.3214 - val_precision: 0.8595 - val_recall: 0.3333\n",
      "Epoch 98/200\n",
      "335/335 [==============================] - 110s 327ms/step - loss: 0.3421 - accuracy: 0.4746 - precision: 0.7479 - recall: 0.5108 - val_loss: 0.2176 - val_accuracy: 0.3251 - val_precision: 0.8328 - val_recall: 0.3297\n",
      "Epoch 99/200\n",
      "335/335 [==============================] - 110s 330ms/step - loss: 0.3432 - accuracy: 0.4421 - precision: 0.7445 - recall: 0.5132 - val_loss: 0.2162 - val_accuracy: 0.3139 - val_precision: 0.8283 - val_recall: 0.3455\n",
      "Epoch 100/200\n",
      "335/335 [==============================] - 109s 327ms/step - loss: 0.3389 - accuracy: 0.4516 - precision: 0.7569 - recall: 0.5190 - val_loss: 0.2197 - val_accuracy: 0.3169 - val_precision: 0.8500 - val_recall: 0.3216\n",
      "Epoch 101/200\n",
      "335/335 [==============================] - 111s 330ms/step - loss: 0.3424 - accuracy: 0.4607 - precision: 0.7482 - recall: 0.5084 - val_loss: 0.2179 - val_accuracy: 0.3154 - val_precision: 0.8372 - val_recall: 0.3428\n",
      "Epoch 102/200\n",
      "335/335 [==============================] - 110s 328ms/step - loss: 0.3399 - accuracy: 0.4604 - precision: 0.7525 - recall: 0.5231 - val_loss: 0.2193 - val_accuracy: 0.3072 - val_precision: 0.8658 - val_recall: 0.3342\n",
      "Epoch 103/200\n",
      "335/335 [==============================] - 110s 329ms/step - loss: 0.3386 - accuracy: 0.4624 - precision: 0.7540 - recall: 0.5169 - val_loss: 0.2142 - val_accuracy: 0.3251 - val_precision: 0.8142 - val_recall: 0.3712\n",
      "Epoch 104/200\n",
      "335/335 [==============================] - 110s 328ms/step - loss: 0.3359 - accuracy: 0.4695 - precision: 0.7482 - recall: 0.5306 - val_loss: 0.2205 - val_accuracy: 0.2877 - val_precision: 0.8528 - val_recall: 0.3158\n",
      "Epoch 105/200\n",
      "335/335 [==============================] - 111s 330ms/step - loss: 0.3384 - accuracy: 0.4536 - precision: 0.7486 - recall: 0.5203 - val_loss: 0.2188 - val_accuracy: 0.3191 - val_precision: 0.8175 - val_recall: 0.3410\n"
     ]
    },
    {
     "name": "stdout",
     "output_type": "stream",
     "text": [
      "Epoch 106/200\n",
      "335/335 [==============================] - 110s 327ms/step - loss: 0.3325 - accuracy: 0.4735 - precision: 0.7550 - recall: 0.5325 - val_loss: 0.2150 - val_accuracy: 0.3251 - val_precision: 0.8512 - val_recall: 0.3608\n",
      "Epoch 107/200\n",
      "335/335 [==============================] - 110s 328ms/step - loss: 0.3276 - accuracy: 0.4832 - precision: 0.7542 - recall: 0.5433 - val_loss: 0.2166 - val_accuracy: 0.3296 - val_precision: 0.8337 - val_recall: 0.3635\n",
      "Epoch 108/200\n",
      "335/335 [==============================] - 110s 329ms/step - loss: 0.3315 - accuracy: 0.4692 - precision: 0.7522 - recall: 0.5276 - val_loss: 0.2142 - val_accuracy: 0.3117 - val_precision: 0.8350 - val_recall: 0.3716\n",
      "Epoch 109/200\n",
      "335/335 [==============================] - 109s 326ms/step - loss: 0.3374 - accuracy: 0.4501 - precision: 0.7547 - recall: 0.5247 - val_loss: 0.2165 - val_accuracy: 0.3169 - val_precision: 0.8382 - val_recall: 0.3383\n",
      "Epoch 110/200\n",
      "335/335 [==============================] - 110s 328ms/step - loss: 0.3323 - accuracy: 0.4645 - precision: 0.7515 - recall: 0.5346 - val_loss: 0.2153 - val_accuracy: 0.3079 - val_precision: 0.8561 - val_recall: 0.3617\n",
      "Epoch 111/200\n",
      "335/335 [==============================] - 111s 330ms/step - loss: 0.3285 - accuracy: 0.4725 - precision: 0.7575 - recall: 0.5340 - val_loss: 0.2155 - val_accuracy: 0.3161 - val_precision: 0.8351 - val_recall: 0.3626\n",
      "Epoch 112/200\n",
      "335/335 [==============================] - 110s 329ms/step - loss: 0.3320 - accuracy: 0.4665 - precision: 0.7549 - recall: 0.5358 - val_loss: 0.2158 - val_accuracy: 0.3229 - val_precision: 0.8356 - val_recall: 0.3595\n",
      "Epoch 113/200\n",
      "335/335 [==============================] - 110s 327ms/step - loss: 0.3326 - accuracy: 0.4647 - precision: 0.7560 - recall: 0.5293 - val_loss: 0.2150 - val_accuracy: 0.3371 - val_precision: 0.8751 - val_recall: 0.3410\n",
      "Epoch 114/200\n",
      "335/335 [==============================] - 110s 329ms/step - loss: 0.3331 - accuracy: 0.4750 - precision: 0.7515 - recall: 0.5366 - val_loss: 0.2137 - val_accuracy: 0.3117 - val_precision: 0.8448 - val_recall: 0.3653\n",
      "Epoch 115/200\n",
      "335/335 [==============================] - 110s 329ms/step - loss: 0.3301 - accuracy: 0.4781 - precision: 0.7518 - recall: 0.5406 - val_loss: 0.2152 - val_accuracy: 0.3139 - val_precision: 0.8489 - val_recall: 0.3518\n",
      "Epoch 116/200\n",
      "335/335 [==============================] - 110s 329ms/step - loss: 0.3281 - accuracy: 0.4695 - precision: 0.7583 - recall: 0.5391 - val_loss: 0.2132 - val_accuracy: 0.3266 - val_precision: 0.8621 - val_recall: 0.3604\n",
      "Epoch 117/200\n",
      "335/335 [==============================] - 110s 329ms/step - loss: 0.3311 - accuracy: 0.4736 - precision: 0.7529 - recall: 0.5343 - val_loss: 0.2116 - val_accuracy: 0.3191 - val_precision: 0.8617 - val_recall: 0.3788\n",
      "Epoch 118/200\n",
      "335/335 [==============================] - 110s 327ms/step - loss: 0.3263 - accuracy: 0.4800 - precision: 0.7614 - recall: 0.5356 - val_loss: 0.2115 - val_accuracy: 0.3206 - val_precision: 0.8249 - val_recall: 0.3797\n",
      "Epoch 119/200\n",
      "335/335 [==============================] - 110s 328ms/step - loss: 0.3241 - accuracy: 0.4830 - precision: 0.7561 - recall: 0.5482 - val_loss: 0.2126 - val_accuracy: 0.3072 - val_precision: 0.8367 - val_recall: 0.3761\n",
      "Epoch 120/200\n",
      "335/335 [==============================] - 110s 327ms/step - loss: 0.3246 - accuracy: 0.4736 - precision: 0.7568 - recall: 0.5457 - val_loss: 0.2131 - val_accuracy: 0.3102 - val_precision: 0.8519 - val_recall: 0.3784\n",
      "Epoch 121/200\n",
      "335/335 [==============================] - 111s 330ms/step - loss: 0.3245 - accuracy: 0.4740 - precision: 0.7619 - recall: 0.5497 - val_loss: 0.2124 - val_accuracy: 0.2960 - val_precision: 0.8697 - val_recall: 0.3608\n",
      "Epoch 122/200\n",
      "335/335 [==============================] - 109s 326ms/step - loss: 0.3289 - accuracy: 0.4686 - precision: 0.7504 - recall: 0.5424 - val_loss: 0.2100 - val_accuracy: 0.2915 - val_precision: 0.8504 - val_recall: 0.3842\n",
      "Epoch 123/200\n",
      "335/335 [==============================] - 110s 329ms/step - loss: 0.3239 - accuracy: 0.4791 - precision: 0.7642 - recall: 0.5473 - val_loss: 0.2093 - val_accuracy: 0.2952 - val_precision: 0.8632 - val_recall: 0.3779\n",
      "Epoch 124/200\n",
      "335/335 [==============================] - 111s 330ms/step - loss: 0.3227 - accuracy: 0.4897 - precision: 0.7623 - recall: 0.5518 - val_loss: 0.2121 - val_accuracy: 0.3244 - val_precision: 0.8443 - val_recall: 0.3761\n",
      "Epoch 125/200\n",
      "335/335 [==============================] - 110s 329ms/step - loss: 0.3218 - accuracy: 0.4796 - precision: 0.7598 - recall: 0.5605 - val_loss: 0.2134 - val_accuracy: 0.3296 - val_precision: 0.8416 - val_recall: 0.3662\n",
      "Epoch 126/200\n",
      "335/335 [==============================] - 111s 330ms/step - loss: 0.3194 - accuracy: 0.4929 - precision: 0.7683 - recall: 0.5603 - val_loss: 0.2115 - val_accuracy: 0.3468 - val_precision: 0.8587 - val_recall: 0.3613\n",
      "Epoch 127/200\n",
      "335/335 [==============================] - 110s 327ms/step - loss: 0.3194 - accuracy: 0.4819 - precision: 0.7719 - recall: 0.5556 - val_loss: 0.2110 - val_accuracy: 0.3102 - val_precision: 0.8542 - val_recall: 0.3748\n",
      "Epoch 128/200\n",
      "335/335 [==============================] - 110s 328ms/step - loss: 0.3225 - accuracy: 0.4847 - precision: 0.7616 - recall: 0.5469 - val_loss: 0.2123 - val_accuracy: 0.3214 - val_precision: 0.8485 - val_recall: 0.3581\n",
      "Epoch 129/200\n",
      "335/335 [==============================] - 110s 327ms/step - loss: 0.3183 - accuracy: 0.4821 - precision: 0.7605 - recall: 0.5653 - val_loss: 0.2107 - val_accuracy: 0.3191 - val_precision: 0.8588 - val_recall: 0.3698\n",
      "Epoch 130/200\n",
      "335/335 [==============================] - 109s 326ms/step - loss: 0.3192 - accuracy: 0.4836 - precision: 0.7676 - recall: 0.5603 - val_loss: 0.2083 - val_accuracy: 0.3236 - val_precision: 0.8597 - val_recall: 0.3865\n",
      "Epoch 131/200\n",
      "335/335 [==============================] - 110s 328ms/step - loss: 0.3209 - accuracy: 0.4836 - precision: 0.7652 - recall: 0.5633 - val_loss: 0.2118 - val_accuracy: 0.2937 - val_precision: 0.8645 - val_recall: 0.3649\n",
      "Epoch 132/200\n",
      "335/335 [==============================] - 110s 329ms/step - loss: 0.3157 - accuracy: 0.4824 - precision: 0.7671 - recall: 0.5618 - val_loss: 0.2097 - val_accuracy: 0.3303 - val_precision: 0.8571 - val_recall: 0.3757\n",
      "Epoch 133/200\n",
      "335/335 [==============================] - 110s 327ms/step - loss: 0.3208 - accuracy: 0.4750 - precision: 0.7569 - recall: 0.5629 - val_loss: 0.2114 - val_accuracy: 0.3259 - val_precision: 0.8532 - val_recall: 0.3667\n",
      "Epoch 134/200\n",
      "335/335 [==============================] - 110s 329ms/step - loss: 0.3102 - accuracy: 0.4905 - precision: 0.7675 - recall: 0.5755 - val_loss: 0.2064 - val_accuracy: 0.3333 - val_precision: 0.8538 - val_recall: 0.3973\n",
      "Epoch 135/200\n",
      "335/335 [==============================] - 110s 329ms/step - loss: 0.3133 - accuracy: 0.4901 - precision: 0.7595 - recall: 0.5687 - val_loss: 0.2091 - val_accuracy: 0.3064 - val_precision: 0.8600 - val_recall: 0.3626\n",
      "Epoch 136/200\n",
      "335/335 [==============================] - 110s 328ms/step - loss: 0.3095 - accuracy: 0.4865 - precision: 0.7686 - recall: 0.5723 - val_loss: 0.2096 - val_accuracy: 0.2915 - val_precision: 0.8397 - val_recall: 0.3941\n",
      "Epoch 137/200\n",
      "335/335 [==============================] - 110s 330ms/step - loss: 0.3079 - accuracy: 0.4944 - precision: 0.7645 - recall: 0.5807 - val_loss: 0.2095 - val_accuracy: 0.2982 - val_precision: 0.8297 - val_recall: 0.3950\n",
      "Epoch 138/200\n",
      "335/335 [==============================] - 110s 327ms/step - loss: 0.3147 - accuracy: 0.4910 - precision: 0.7662 - recall: 0.5707 - val_loss: 0.2092 - val_accuracy: 0.3266 - val_precision: 0.8458 - val_recall: 0.3878\n",
      "Epoch 139/200\n",
      "335/335 [==============================] - 111s 330ms/step - loss: 0.3158 - accuracy: 0.4966 - precision: 0.7658 - recall: 0.5742 - val_loss: 0.2112 - val_accuracy: 0.3042 - val_precision: 0.8571 - val_recall: 0.3784\n",
      "Epoch 140/200\n",
      "335/335 [==============================] - 110s 329ms/step - loss: 0.3101 - accuracy: 0.4970 - precision: 0.7637 - recall: 0.5794 - val_loss: 0.2060 - val_accuracy: 0.3184 - val_precision: 0.8562 - val_recall: 0.4077\n",
      "Epoch 141/200\n"
     ]
    },
    {
     "name": "stdout",
     "output_type": "stream",
     "text": [
      "335/335 [==============================] - 110s 327ms/step - loss: 0.3086 - accuracy: 0.4938 - precision: 0.7740 - recall: 0.5814 - val_loss: 0.2077 - val_accuracy: 0.3117 - val_precision: 0.8425 - val_recall: 0.4023\n",
      "Epoch 142/200\n",
      "335/335 [==============================] - 109s 326ms/step - loss: 0.3106 - accuracy: 0.5007 - precision: 0.7733 - recall: 0.5796 - val_loss: 0.2088 - val_accuracy: 0.3236 - val_precision: 0.8509 - val_recall: 0.4063\n",
      "Epoch 143/200\n",
      "335/335 [==============================] - 109s 326ms/step - loss: 0.3158 - accuracy: 0.4817 - precision: 0.7668 - recall: 0.5730 - val_loss: 0.2080 - val_accuracy: 0.3244 - val_precision: 0.8546 - val_recall: 0.3838\n",
      "Epoch 144/200\n",
      "335/335 [==============================] - 110s 327ms/step - loss: 0.3119 - accuracy: 0.5015 - precision: 0.7743 - recall: 0.5789 - val_loss: 0.2066 - val_accuracy: 0.3087 - val_precision: 0.8344 - val_recall: 0.4086\n",
      "Epoch 145/200\n",
      "335/335 [==============================] - 109s 326ms/step - loss: 0.3034 - accuracy: 0.5006 - precision: 0.7685 - recall: 0.5861 - val_loss: 0.2028 - val_accuracy: 0.3303 - val_precision: 0.8612 - val_recall: 0.4248\n",
      "Epoch 146/200\n",
      "335/335 [==============================] - 110s 329ms/step - loss: 0.3013 - accuracy: 0.5009 - precision: 0.7757 - recall: 0.5950 - val_loss: 0.2063 - val_accuracy: 0.3154 - val_precision: 0.8279 - val_recall: 0.4095\n",
      "Epoch 147/200\n",
      "335/335 [==============================] - 109s 326ms/step - loss: 0.3074 - accuracy: 0.4877 - precision: 0.7692 - recall: 0.5840 - val_loss: 0.2068 - val_accuracy: 0.3408 - val_precision: 0.8508 - val_recall: 0.4059\n",
      "Epoch 148/200\n",
      "335/335 [==============================] - 109s 325ms/step - loss: 0.3023 - accuracy: 0.4993 - precision: 0.7685 - recall: 0.5897 - val_loss: 0.2068 - val_accuracy: 0.3214 - val_precision: 0.8570 - val_recall: 0.3887\n",
      "Epoch 149/200\n",
      "335/335 [==============================] - 109s 326ms/step - loss: 0.3036 - accuracy: 0.4951 - precision: 0.7685 - recall: 0.5918 - val_loss: 0.2080 - val_accuracy: 0.3169 - val_precision: 0.8511 - val_recall: 0.4018\n",
      "Epoch 150/200\n",
      "335/335 [==============================] - 109s 325ms/step - loss: 0.3023 - accuracy: 0.5011 - precision: 0.7693 - recall: 0.5954 - val_loss: 0.2074 - val_accuracy: 0.3072 - val_precision: 0.8529 - val_recall: 0.3919\n",
      "Epoch 151/200\n",
      "335/335 [==============================] - 109s 324ms/step - loss: 0.3044 - accuracy: 0.5088 - precision: 0.7731 - recall: 0.5934 - val_loss: 0.2056 - val_accuracy: 0.3251 - val_precision: 0.8635 - val_recall: 0.4045\n",
      "Epoch 152/200\n",
      "335/335 [==============================] - 109s 326ms/step - loss: 0.2935 - accuracy: 0.5065 - precision: 0.7817 - recall: 0.6036 - val_loss: 0.2036 - val_accuracy: 0.2952 - val_precision: 0.8371 - val_recall: 0.4351\n",
      "Epoch 153/200\n",
      "335/335 [==============================] - 109s 326ms/step - loss: 0.3010 - accuracy: 0.4950 - precision: 0.7785 - recall: 0.5964 - val_loss: 0.2043 - val_accuracy: 0.2990 - val_precision: 0.8462 - val_recall: 0.4288\n",
      "Epoch 154/200\n",
      "335/335 [==============================] - 109s 326ms/step - loss: 0.3067 - accuracy: 0.5021 - precision: 0.7685 - recall: 0.5885 - val_loss: 0.2077 - val_accuracy: 0.3064 - val_precision: 0.8621 - val_recall: 0.4054\n",
      "Epoch 155/200\n",
      "335/335 [==============================] - 110s 327ms/step - loss: 0.2968 - accuracy: 0.5019 - precision: 0.7768 - recall: 0.6063 - val_loss: 0.2072 - val_accuracy: 0.2855 - val_precision: 0.8424 - val_recall: 0.4117\n",
      "Epoch 156/200\n",
      "335/335 [==============================] - 109s 325ms/step - loss: 0.3001 - accuracy: 0.4976 - precision: 0.7732 - recall: 0.5949 - val_loss: 0.2044 - val_accuracy: 0.3027 - val_precision: 0.8641 - val_recall: 0.4212\n",
      "Epoch 157/200\n",
      "335/335 [==============================] - 109s 326ms/step - loss: 0.3028 - accuracy: 0.5071 - precision: 0.7754 - recall: 0.5963 - val_loss: 0.2065 - val_accuracy: 0.3124 - val_precision: 0.8437 - val_recall: 0.4036\n",
      "Epoch 158/200\n",
      "335/335 [==============================] - 109s 326ms/step - loss: 0.2958 - accuracy: 0.5103 - precision: 0.7763 - recall: 0.6056 - val_loss: 0.2039 - val_accuracy: 0.3393 - val_precision: 0.8607 - val_recall: 0.4257\n",
      "Epoch 159/200\n",
      "335/335 [==============================] - 110s 327ms/step - loss: 0.2978 - accuracy: 0.5030 - precision: 0.7755 - recall: 0.6010 - val_loss: 0.2045 - val_accuracy: 0.2930 - val_precision: 0.8449 - val_recall: 0.4293\n",
      "Epoch 160/200\n",
      "335/335 [==============================] - 109s 325ms/step - loss: 0.3011 - accuracy: 0.5030 - precision: 0.7766 - recall: 0.5975 - val_loss: 0.2036 - val_accuracy: 0.2967 - val_precision: 0.8295 - val_recall: 0.4338\n",
      "Epoch 161/200\n",
      "335/335 [==============================] - 110s 327ms/step - loss: 0.2960 - accuracy: 0.4873 - precision: 0.7791 - recall: 0.6063 - val_loss: 0.2056 - val_accuracy: 0.3102 - val_precision: 0.8384 - val_recall: 0.4347\n",
      "Epoch 162/200\n",
      "335/335 [==============================] - 109s 327ms/step - loss: 0.3038 - accuracy: 0.5002 - precision: 0.7705 - recall: 0.5980 - val_loss: 0.2020 - val_accuracy: 0.2840 - val_precision: 0.8301 - val_recall: 0.4378\n",
      "Epoch 163/200\n",
      "335/335 [==============================] - 109s 326ms/step - loss: 0.2971 - accuracy: 0.4886 - precision: 0.7757 - recall: 0.6055 - val_loss: 0.2060 - val_accuracy: 0.3094 - val_precision: 0.8492 - val_recall: 0.4108\n",
      "Epoch 164/200\n",
      "335/335 [==============================] - 109s 326ms/step - loss: 0.2952 - accuracy: 0.4994 - precision: 0.7769 - recall: 0.6064 - val_loss: 0.1994 - val_accuracy: 0.3057 - val_precision: 0.8467 - val_recall: 0.4455\n",
      "Epoch 165/200\n",
      "335/335 [==============================] - 110s 328ms/step - loss: 0.2930 - accuracy: 0.5075 - precision: 0.7787 - recall: 0.6122 - val_loss: 0.2017 - val_accuracy: 0.3214 - val_precision: 0.8482 - val_recall: 0.4329\n",
      "Epoch 166/200\n",
      "335/335 [==============================] - 111s 330ms/step - loss: 0.2956 - accuracy: 0.5062 - precision: 0.7761 - recall: 0.6112 - val_loss: 0.2028 - val_accuracy: 0.3214 - val_precision: 0.8469 - val_recall: 0.4360\n",
      "Epoch 167/200\n",
      "335/335 [==============================] - 110s 329ms/step - loss: 0.2922 - accuracy: 0.5015 - precision: 0.7853 - recall: 0.6178 - val_loss: 0.2039 - val_accuracy: 0.2892 - val_precision: 0.8423 - val_recall: 0.4378\n",
      "Epoch 168/200\n",
      "335/335 [==============================] - 110s 329ms/step - loss: 0.2953 - accuracy: 0.5071 - precision: 0.7790 - recall: 0.6071 - val_loss: 0.2009 - val_accuracy: 0.3356 - val_precision: 0.8415 - val_recall: 0.4473\n",
      "Epoch 169/200\n",
      "335/335 [==============================] - 110s 327ms/step - loss: 0.2911 - accuracy: 0.5196 - precision: 0.7855 - recall: 0.6186 - val_loss: 0.2022 - val_accuracy: 0.2810 - val_precision: 0.8215 - val_recall: 0.4414\n",
      "Epoch 170/200\n",
      "335/335 [==============================] - 110s 329ms/step - loss: 0.2928 - accuracy: 0.5123 - precision: 0.7899 - recall: 0.6189 - val_loss: 0.2048 - val_accuracy: 0.2945 - val_precision: 0.8535 - val_recall: 0.4225\n",
      "Epoch 171/200\n",
      "335/335 [==============================] - 110s 328ms/step - loss: 0.2915 - accuracy: 0.5099 - precision: 0.7804 - recall: 0.6186 - val_loss: 0.2018 - val_accuracy: 0.3161 - val_precision: 0.8453 - val_recall: 0.4356\n",
      "Epoch 172/200\n",
      "335/335 [==============================] - 111s 330ms/step - loss: 0.2923 - accuracy: 0.5065 - precision: 0.7761 - recall: 0.6126 - val_loss: 0.2027 - val_accuracy: 0.3348 - val_precision: 0.8524 - val_recall: 0.4239\n",
      "Epoch 173/200\n",
      "335/335 [==============================] - 110s 329ms/step - loss: 0.2887 - accuracy: 0.5150 - precision: 0.7828 - recall: 0.6242 - val_loss: 0.2028 - val_accuracy: 0.2877 - val_precision: 0.8206 - val_recall: 0.4266\n",
      "Epoch 174/200\n",
      "335/335 [==============================] - 110s 328ms/step - loss: 0.2956 - accuracy: 0.5045 - precision: 0.7788 - recall: 0.6127 - val_loss: 0.2070 - val_accuracy: 0.2937 - val_precision: 0.8162 - val_recall: 0.4081\n",
      "Epoch 175/200\n",
      "335/335 [==============================] - 110s 327ms/step - loss: 0.2898 - accuracy: 0.5101 - precision: 0.7796 - recall: 0.6205 - val_loss: 0.2021 - val_accuracy: 0.2713 - val_precision: 0.8570 - val_recall: 0.4347\n",
      "Epoch 176/200\n"
     ]
    },
    {
     "name": "stdout",
     "output_type": "stream",
     "text": [
      "335/335 [==============================] - 110s 327ms/step - loss: 0.2893 - accuracy: 0.5155 - precision: 0.7834 - recall: 0.6213 - val_loss: 0.1996 - val_accuracy: 0.3012 - val_precision: 0.8265 - val_recall: 0.4419\n",
      "Epoch 177/200\n",
      "335/335 [==============================] - 110s 328ms/step - loss: 0.2886 - accuracy: 0.5179 - precision: 0.7848 - recall: 0.6285 - val_loss: 0.2019 - val_accuracy: 0.3154 - val_precision: 0.8587 - val_recall: 0.4270\n",
      "Epoch 178/200\n",
      "335/335 [==============================] - 110s 329ms/step - loss: 0.2929 - accuracy: 0.5129 - precision: 0.7805 - recall: 0.6201 - val_loss: 0.2031 - val_accuracy: 0.3019 - val_precision: 0.8395 - val_recall: 0.4288\n",
      "Epoch 179/200\n",
      "335/335 [==============================] - 110s 327ms/step - loss: 0.2878 - accuracy: 0.5178 - precision: 0.7839 - recall: 0.6254 - val_loss: 0.2015 - val_accuracy: 0.3146 - val_precision: 0.8312 - val_recall: 0.4369\n",
      "Epoch 180/200\n",
      "335/335 [==============================] - 110s 328ms/step - loss: 0.2866 - accuracy: 0.5090 - precision: 0.7930 - recall: 0.6303 - val_loss: 0.1994 - val_accuracy: 0.2967 - val_precision: 0.8293 - val_recall: 0.4532\n",
      "Epoch 181/200\n",
      "335/335 [==============================] - 110s 329ms/step - loss: 0.2901 - accuracy: 0.5125 - precision: 0.7797 - recall: 0.6242 - val_loss: 0.2003 - val_accuracy: 0.2952 - val_precision: 0.8648 - val_recall: 0.4293\n",
      "Epoch 182/200\n",
      "335/335 [==============================] - 109s 326ms/step - loss: 0.2868 - accuracy: 0.5194 - precision: 0.7861 - recall: 0.6252 - val_loss: 0.2014 - val_accuracy: 0.2937 - val_precision: 0.8206 - val_recall: 0.4491\n",
      "Epoch 183/200\n",
      "335/335 [==============================] - 110s 327ms/step - loss: 0.2899 - accuracy: 0.5155 - precision: 0.7857 - recall: 0.6271 - val_loss: 0.2004 - val_accuracy: 0.3042 - val_precision: 0.8517 - val_recall: 0.4347\n",
      "Epoch 184/200\n",
      "335/335 [==============================] - 110s 328ms/step - loss: 0.2880 - accuracy: 0.5234 - precision: 0.7905 - recall: 0.6246 - val_loss: 0.1977 - val_accuracy: 0.3094 - val_precision: 0.8543 - val_recall: 0.4491\n",
      "Epoch 185/200\n",
      "335/335 [==============================] - 110s 327ms/step - loss: 0.2866 - accuracy: 0.5249 - precision: 0.7831 - recall: 0.6293 - val_loss: 0.1981 - val_accuracy: 0.3064 - val_precision: 0.8379 - val_recall: 0.4586\n",
      "Epoch 186/200\n",
      "335/335 [==============================] - 110s 328ms/step - loss: 0.2872 - accuracy: 0.5093 - precision: 0.7859 - recall: 0.6220 - val_loss: 0.2012 - val_accuracy: 0.3087 - val_precision: 0.8333 - val_recall: 0.4414\n",
      "Epoch 187/200\n",
      "335/335 [==============================] - 110s 328ms/step - loss: 0.2851 - accuracy: 0.5127 - precision: 0.7817 - recall: 0.6282 - val_loss: 0.2007 - val_accuracy: 0.2765 - val_precision: 0.8357 - val_recall: 0.4468\n",
      "Epoch 188/200\n",
      "335/335 [==============================] - 109s 326ms/step - loss: 0.2841 - accuracy: 0.5144 - precision: 0.7879 - recall: 0.6311 - val_loss: 0.1991 - val_accuracy: 0.3072 - val_precision: 0.8546 - val_recall: 0.4396\n",
      "Epoch 189/200\n",
      "335/335 [==============================] - 110s 328ms/step - loss: 0.2793 - accuracy: 0.5232 - precision: 0.7884 - recall: 0.6363 - val_loss: 0.1988 - val_accuracy: 0.3042 - val_precision: 0.8269 - val_recall: 0.4541\n",
      "Epoch 190/200\n",
      "335/335 [==============================] - 110s 328ms/step - loss: 0.2836 - accuracy: 0.5232 - precision: 0.7877 - recall: 0.6330 - val_loss: 0.2003 - val_accuracy: 0.3132 - val_precision: 0.8561 - val_recall: 0.4423\n",
      "Epoch 191/200\n",
      "335/335 [==============================] - 110s 329ms/step - loss: 0.2800 - accuracy: 0.5219 - precision: 0.7941 - recall: 0.6367 - val_loss: 0.2012 - val_accuracy: 0.3117 - val_precision: 0.8458 - val_recall: 0.4523\n",
      "Epoch 192/200\n",
      "335/335 [==============================] - 110s 329ms/step - loss: 0.2782 - accuracy: 0.5282 - precision: 0.7937 - recall: 0.6451 - val_loss: 0.2002 - val_accuracy: 0.3049 - val_precision: 0.8243 - val_recall: 0.4586\n",
      "Epoch 193/200\n",
      "335/335 [==============================] - 110s 329ms/step - loss: 0.2774 - accuracy: 0.5376 - precision: 0.7900 - recall: 0.6417 - val_loss: 0.1998 - val_accuracy: 0.2885 - val_precision: 0.8361 - val_recall: 0.4550\n",
      "Epoch 194/200\n",
      "335/335 [==============================] - 110s 329ms/step - loss: 0.2724 - accuracy: 0.5277 - precision: 0.7902 - recall: 0.6503 - val_loss: 0.2001 - val_accuracy: 0.2848 - val_precision: 0.8485 - val_recall: 0.4441\n",
      "Epoch 195/200\n",
      "335/335 [==============================] - 109s 326ms/step - loss: 0.2813 - accuracy: 0.5219 - precision: 0.7837 - recall: 0.6369 - val_loss: 0.2003 - val_accuracy: 0.2840 - val_precision: 0.8428 - val_recall: 0.4491\n",
      "Epoch 196/200\n",
      "335/335 [==============================] - 110s 326ms/step - loss: 0.2774 - accuracy: 0.5290 - precision: 0.7958 - recall: 0.6481 - val_loss: 0.1946 - val_accuracy: 0.3176 - val_precision: 0.8333 - val_recall: 0.4887\n",
      "Epoch 197/200\n",
      "335/335 [==============================] - 110s 329ms/step - loss: 0.2775 - accuracy: 0.5226 - precision: 0.7917 - recall: 0.6432 - val_loss: 0.1984 - val_accuracy: 0.3079 - val_precision: 0.8429 - val_recall: 0.4689\n",
      "Epoch 198/200\n",
      "335/335 [==============================] - 110s 328ms/step - loss: 0.2806 - accuracy: 0.5250 - precision: 0.7879 - recall: 0.6397 - val_loss: 0.1986 - val_accuracy: 0.3087 - val_precision: 0.8390 - val_recall: 0.4577\n",
      "Epoch 199/200\n",
      "335/335 [==============================] - 110s 329ms/step - loss: 0.2797 - accuracy: 0.5176 - precision: 0.7985 - recall: 0.6441 - val_loss: 0.2005 - val_accuracy: 0.3042 - val_precision: 0.8468 - val_recall: 0.4532\n",
      "Epoch 200/200\n",
      "335/335 [==============================] - 110s 329ms/step - loss: 0.2737 - accuracy: 0.5297 - precision: 0.7909 - recall: 0.6495 - val_loss: 0.2012 - val_accuracy: 0.2915 - val_precision: 0.8350 - val_recall: 0.4559\n"
     ]
    },
    {
     "data": {
      "text/plain": [
       "<tensorflow.python.keras.callbacks.History at 0x7f9d11a9a580>"
      ]
     },
     "execution_count": 22,
     "metadata": {},
     "output_type": "execute_result"
    }
   ],
   "source": [
    "final_model.fit(X_train, y_train, epochs=200, validation_data=(X_val, y_val), batch_size=16,class_weight = class_dict)"
   ]
  },
  {
   "cell_type": "code",
   "execution_count": 24,
   "id": "a268c626",
   "metadata": {},
   "outputs": [
    {
     "name": "stdout",
     "output_type": "stream",
     "text": [
      "53/53 [==============================] - 8s 136ms/step - loss: 0.1960 - accuracy: 0.3074 - precision: 0.8390 - recall: 0.4863\n"
     ]
    },
    {
     "data": {
      "text/plain": [
       "[0.19603998959064484,\n",
       " 0.30741626024246216,\n",
       " 0.8390304446220398,\n",
       " 0.4863112270832062]"
      ]
     },
     "execution_count": 24,
     "metadata": {},
     "output_type": "execute_result"
    }
   ],
   "source": [
    "final_model.evaluate(X_test, y_test)"
   ]
  },
  {
   "cell_type": "code",
   "execution_count": 25,
   "id": "63c6dbad",
   "metadata": {},
   "outputs": [
    {
     "name": "stdout",
     "output_type": "stream",
     "text": [
      "42/42 [==============================] - 6s 134ms/step - loss: 0.2012 - accuracy: 0.2915 - precision: 0.8350 - recall: 0.4559\n"
     ]
    },
    {
     "data": {
      "text/plain": [
       "[0.20124825835227966,\n",
       " 0.29147982597351074,\n",
       " 0.8349835276603699,\n",
       " 0.4558558464050293]"
      ]
     },
     "execution_count": 25,
     "metadata": {},
     "output_type": "execute_result"
    }
   ],
   "source": [
    "final_model.evaluate(X_val, y_val)"
   ]
  },
  {
   "cell_type": "code",
   "execution_count": 26,
   "id": "6528f118",
   "metadata": {},
   "outputs": [
    {
     "name": "stdout",
     "output_type": "stream",
     "text": [
      "168/168 [==============================] - 26s 153ms/step - loss: 0.0745 - accuracy: 0.6264 - precision: 0.9918 - recall: 0.8546\n"
     ]
    },
    {
     "data": {
      "text/plain": [
       "[0.07454218715429306,\n",
       " 0.6263551115989685,\n",
       " 0.991769015789032,\n",
       " 0.8546498417854309]"
      ]
     },
     "execution_count": 26,
     "metadata": {},
     "output_type": "execute_result"
    }
   ],
   "source": [
    "final_model.evaluate(X_train, y_train)"
   ]
  },
  {
   "cell_type": "code",
   "execution_count": 73,
   "id": "18e4eaf2",
   "metadata": {},
   "outputs": [
    {
     "name": "stdout",
     "output_type": "stream",
     "text": [
      "Fighting 54.8%\n",
      "Psychic 17.9%\n",
      "Dark 3.51%\n",
      "Fire 3.19%\n",
      "Steel 2.24%\n"
     ]
    },
    {
     "data": {
      "image/png": "[encoded data removed]",
      "text/plain": [
       "<Figure size 432x288 with 1 Axes>"
      ]
     },
     "metadata": {
      "needs_background": "light"
     },
     "output_type": "display_data"
    }
   ],
   "source": [
    "img = X_test[50]\n",
    "classes = np.array(y_train.columns)\n",
    "proba = final_model.predict(img.reshape(1,256,256,3))\n",
    "top_3 = np.argsort(proba[0])[:-6:-1]\n",
    "for i in range(5):\n",
    "    print(\"{}\".format(classes[top_3[i]])+\" {:.3}%\".format(proba[0][top_3[i]]*100))\n",
    "io.imshow(img);"
   ]
  },
  {
   "cell_type": "code",
   "execution_count": 97,
   "id": "4120ac98",
   "metadata": {},
   "outputs": [],
   "source": [
    "from sklearn.dummy import DummyClassifier\n",
    "from sklearn.metrics import recall_score,precision_score"
   ]
  },
  {
   "cell_type": "code",
   "execution_count": 159,
   "id": "34079c14",
   "metadata": {},
   "outputs": [],
   "source": [
    "dummy_clf = DummyClassifier(strategy = 'stratified')"
   ]
  },
  {
   "cell_type": "code",
   "execution_count": 160,
   "id": "e05d582c",
   "metadata": {},
   "outputs": [
    {
     "data": {
      "text/plain": [
       "DummyClassifier(strategy='stratified')"
      ]
     },
     "execution_count": 160,
     "metadata": {},
     "output_type": "execute_result"
    }
   ],
   "source": [
    "dummy_clf.fit(X_train,y_train)"
   ]
  },
  {
   "cell_type": "code",
   "execution_count": 161,
   "id": "c74dc28a",
   "metadata": {},
   "outputs": [
    {
     "data": {
      "text/plain": [
       "0.01076555023923445"
      ]
     },
     "execution_count": 161,
     "metadata": {},
     "output_type": "execute_result"
    }
   ],
   "source": [
    "dummy_clf.score(X_test,y_test)"
   ]
  },
  {
   "cell_type": "code",
   "execution_count": 162,
   "id": "1a5e6e46",
   "metadata": {},
   "outputs": [],
   "source": [
    "ydummypred = dummy_clf.predict(X_test)"
   ]
  },
  {
   "cell_type": "code",
   "execution_count": 163,
   "id": "8ae5ddbd",
   "metadata": {},
   "outputs": [
    {
     "data": {
      "text/plain": [
       "0.11707492795389049"
      ]
     },
     "execution_count": 163,
     "metadata": {},
     "output_type": "execute_result"
    }
   ],
   "source": [
    "recall_score(pd.DataFrame.to_numpy(y_test),ydummypred, average = 'micro')"
   ]
  },
  {
   "cell_type": "code",
   "execution_count": 164,
   "id": "f76367f2",
   "metadata": {},
   "outputs": [
    {
     "data": {
      "text/plain": [
       "0.11363636363636363"
      ]
     },
     "execution_count": 164,
     "metadata": {},
     "output_type": "execute_result"
    }
   ],
   "source": [
    "precision_score(pd.DataFrame.to_numpy(y_test),ydummypred, average = 'micro')"
   ]
  },
  {
   "cell_type": "code",
   "execution_count": 158,
   "id": "2c132743",
   "metadata": {},
   "outputs": [
    {
     "data": {
      "text/plain": [
       "array([[0, 1, 0, 0, 0, 1, 0, 1, 1, 1, 0, 1, 1, 1, 1, 1, 0, 1],\n",
       "       [0, 1, 1, 1, 0, 0, 1, 1, 1, 1, 1, 0, 1, 0, 1, 0, 0, 1],\n",
       "       [1, 1, 0, 1, 0, 1, 0, 0, 1, 0, 0, 0, 1, 1, 0, 1, 0, 0],\n",
       "       [1, 0, 0, 0, 1, 1, 0, 1, 1, 0, 1, 1, 1, 1, 0, 1, 0, 1],\n",
       "       [1, 1, 1, 0, 1, 0, 1, 1, 0, 0, 1, 0, 0, 1, 1, 1, 1, 1]],\n",
       "      dtype=uint8)"
      ]
     },
     "execution_count": 158,
     "metadata": {},
     "output_type": "execute_result"
    }
   ],
   "source": [
    "ydummypred[0:5]"
   ]
  },
  {
   "cell_type": "code",
   "execution_count": 128,
   "id": "38805b0e",
   "metadata": {},
   "outputs": [
    {
     "name": "stdout",
     "output_type": "stream",
     "text": [
      "Model: \"sequential_2\"\n",
      "_________________________________________________________________\n",
      "Layer (type)                 Output Shape              Param #   \n",
      "=================================================================\n",
      "conv2d_4 (Conv2D)            (None, 254, 254, 16)      448       \n",
      "_________________________________________________________________\n",
      "max_pooling2d_4 (MaxPooling2 (None, 127, 127, 16)      0         \n",
      "_________________________________________________________________\n",
      "dropout_6 (Dropout)          (None, 127, 127, 16)      0         \n",
      "_________________________________________________________________\n",
      "conv2d_5 (Conv2D)            (None, 125, 125, 32)      4640      \n",
      "_________________________________________________________________\n",
      "max_pooling2d_5 (MaxPooling2 (None, 62, 62, 32)        0         \n",
      "_________________________________________________________________\n",
      "dropout_7 (Dropout)          (None, 62, 62, 32)        0         \n",
      "_________________________________________________________________\n",
      "conv2d_6 (Conv2D)            (None, 60, 60, 64)        18496     \n",
      "_________________________________________________________________\n",
      "max_pooling2d_6 (MaxPooling2 (None, 30, 30, 64)        0         \n",
      "_________________________________________________________________\n",
      "dropout_8 (Dropout)          (None, 30, 30, 64)        0         \n",
      "_________________________________________________________________\n",
      "conv2d_7 (Conv2D)            (None, 28, 28, 64)        36928     \n",
      "_________________________________________________________________\n",
      "max_pooling2d_7 (MaxPooling2 (None, 14, 14, 64)        0         \n",
      "_________________________________________________________________\n",
      "dropout_9 (Dropout)          (None, 14, 14, 64)        0         \n",
      "_________________________________________________________________\n",
      "flatten_1 (Flatten)          (None, 12544)             0         \n",
      "_________________________________________________________________\n",
      "dense_3 (Dense)              (None, 128)               1605760   \n",
      "_________________________________________________________________\n",
      "dropout_10 (Dropout)         (None, 128)               0         \n",
      "_________________________________________________________________\n",
      "dense_4 (Dense)              (None, 64)                8256      \n",
      "_________________________________________________________________\n",
      "dropout_11 (Dropout)         (None, 64)                0         \n",
      "_________________________________________________________________\n",
      "dense_5 (Dense)              (None, 18)                1170      \n",
      "=================================================================\n",
      "Total params: 1,675,698\n",
      "Trainable params: 1,675,698\n",
      "Non-trainable params: 0\n",
      "_________________________________________________________________\n"
     ]
    }
   ],
   "source": [
    "final_model.summary()"
   ]
  },
  {
   "cell_type": "code",
   "execution_count": 137,
   "id": "a23dcfd6",
   "metadata": {},
   "outputs": [],
   "source": [
    "colors = ['#a8b820', '#705848', '#7038f8','#f8D030','#ee99ac','#c03028','#f08030','#a890f0','#705898','#78c850','#e0C068','#98d8d8','#a8a878','#a040a0','#f85888','#b8a038','#b8b8D0','#6890f0']"
   ]
  },
  {
   "cell_type": "code",
   "execution_count": 141,
   "id": "2244610f",
   "metadata": {},
   "outputs": [
    {
     "data": {
      "text/plain": [
       "array([ 888,  575,  529,  492,  503,  527,  620, 1341,  484,  988,  825,\n",
       "        441, 1012,  874,  936,  788,  593, 1462])"
      ]
     },
     "execution_count": 141,
     "metadata": {},
     "output_type": "execute_result"
    }
   ],
   "source": [
    "y.sum(axis=0).values"
   ]
  },
  {
   "cell_type": "code",
   "execution_count": 145,
   "id": "27b208f8",
   "metadata": {
    "scrolled": false
   },
   "outputs": [
    {
     "data": {
      "text/plain": [
       "Text(0.5, 1.0, 'Amount of Images by Type')"
      ]
     },
     "execution_count": 145,
     "metadata": {},
     "output_type": "execute_result"
    },
    {
     "data": {
      "image/png": "[encoded data removed]",
      "text/plain": [
       "<Figure size 1080x720 with 1 Axes>"
      ]
     },
     "metadata": {
      "needs_background": "light"
     },
     "output_type": "display_data"
    }
   ],
   "source": [
    "fig,ax = plt.subplots(figsize= (15,10))\n",
    "ax.bar(range(0,18), y.sum(axis=0).values, color = colors)\n",
    "ax.set_xticks(range(0,18))\n",
    "ax.set_xticklabels(y.columns, size = 12)\n",
    "plt.xticks(rotation = 45);\n",
    "ax.set_xlabel('Type', size = 14)\n",
    "ax.set_ylabel('Count', size = 14)\n",
    "ax.set_title('Amount of Images by Type', size = 16)"
   ]
  },
  {
   "cell_type": "code",
   "execution_count": 166,
   "id": "f66e0652",
   "metadata": {},
   "outputs": [
    {
     "name": "stdout",
     "output_type": "stream",
     "text": [
      "INFO:tensorflow:Assets written to: ../data/my_model/assets\n"
     ]
    }
   ],
   "source": [
    "final_model.save('../data/my_model')"
   ]
  },
  {
   "cell_type": "code",
   "execution_count": null,
   "id": "8513674a",
   "metadata": {},
   "outputs": [],
   "source": []
  }
 ],
 "metadata": {
  "kernelspec": {
   "display_name": "Python 3",
   "language": "python",
   "name": "python3"
  },
  "language_info": {
   "codemirror_mode": {
    "name": "ipython",
    "version": 3
   },
   "file_extension": ".py",
   "mimetype": "text/x-python",
   "name": "python",
   "nbconvert_exporter": "python",
   "pygments_lexer": "ipython3",
   "version": "3.8.8"
  }
 },
 "nbformat": 4,
 "nbformat_minor": 5
}
