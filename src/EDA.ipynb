{
 "cells": [
  {
   "cell_type": "code",
   "execution_count": 1,
   "id": "448ec997",
   "metadata": {},
   "outputs": [],
   "source": [
    "import pandas as pd\n",
    "import numpy as np\n",
    "import matplotlib.pyplot as plt\n",
    "%matplotlib inline\n",
    "plt.style.use('ggplot')\n",
    "import requests\n",
    "import ast"
   ]
  },
  {
   "cell_type": "code",
   "execution_count": 2,
   "id": "e6f673f3",
   "metadata": {},
   "outputs": [],
   "source": [
    "df = pd.read_csv('../data/data_final.csv')"
   ]
  },
  {
   "cell_type": "code",
   "execution_count": 3,
   "id": "6f741212",
   "metadata": {},
   "outputs": [
    {
     "data": {
      "text/html": [
       "<div>\n",
       "<style scoped>\n",
       "    .dataframe tbody tr th:only-of-type {\n",
       "        vertical-align: middle;\n",
       "    }\n",
       "\n",
       "    .dataframe tbody tr th {\n",
       "        vertical-align: top;\n",
       "    }\n",
       "\n",
       "    .dataframe thead th {\n",
       "        text-align: right;\n",
       "    }\n",
       "</style>\n",
       "<table border=\"1\" class=\"dataframe\">\n",
       "  <thead>\n",
       "    <tr style=\"text-align: right;\">\n",
       "      <th></th>\n",
       "      <th>ID</th>\n",
       "      <th>Name</th>\n",
       "      <th>Primary Type</th>\n",
       "      <th>Secondary Type</th>\n",
       "      <th>Image</th>\n",
       "      <th>Additional Images</th>\n",
       "    </tr>\n",
       "  </thead>\n",
       "  <tbody>\n",
       "    <tr>\n",
       "      <th>0</th>\n",
       "      <td>#001</td>\n",
       "      <td>bulbasaur</td>\n",
       "      <td>Grass</td>\n",
       "      <td>Poison</td>\n",
       "      <td>https://img.pokemondb.net/sprites/bank/normal/...</td>\n",
       "      <td>['https://img.pokemondb.net/artwork/bulbasaur....</td>\n",
       "    </tr>\n",
       "    <tr>\n",
       "      <th>1</th>\n",
       "      <td>#002</td>\n",
       "      <td>ivysaur</td>\n",
       "      <td>Grass</td>\n",
       "      <td>Poison</td>\n",
       "      <td>https://img.pokemondb.net/sprites/bank/normal/...</td>\n",
       "      <td>['https://img.pokemondb.net/artwork/ivysaur.jp...</td>\n",
       "    </tr>\n",
       "    <tr>\n",
       "      <th>2</th>\n",
       "      <td>#003</td>\n",
       "      <td>venusaur</td>\n",
       "      <td>Grass</td>\n",
       "      <td>Poison</td>\n",
       "      <td>https://img.pokemondb.net/sprites/bank/normal/...</td>\n",
       "      <td>['https://img.pokemondb.net/artwork/venusaur.j...</td>\n",
       "    </tr>\n",
       "    <tr>\n",
       "      <th>3</th>\n",
       "      <td>#004</td>\n",
       "      <td>charmander</td>\n",
       "      <td>Fire</td>\n",
       "      <td>NaN</td>\n",
       "      <td>https://img.pokemondb.net/sprites/bank/normal/...</td>\n",
       "      <td>['https://img.pokemondb.net/artwork/charmander...</td>\n",
       "    </tr>\n",
       "    <tr>\n",
       "      <th>4</th>\n",
       "      <td>#005</td>\n",
       "      <td>charmeleon</td>\n",
       "      <td>Fire</td>\n",
       "      <td>NaN</td>\n",
       "      <td>https://img.pokemondb.net/sprites/bank/normal/...</td>\n",
       "      <td>['https://img.pokemondb.net/artwork/charmeleon...</td>\n",
       "    </tr>\n",
       "    <tr>\n",
       "      <th>...</th>\n",
       "      <td>...</td>\n",
       "      <td>...</td>\n",
       "      <td>...</td>\n",
       "      <td>...</td>\n",
       "      <td>...</td>\n",
       "      <td>...</td>\n",
       "    </tr>\n",
       "    <tr>\n",
       "      <th>893</th>\n",
       "      <td>#894</td>\n",
       "      <td>regieleki</td>\n",
       "      <td>Electric</td>\n",
       "      <td>NaN</td>\n",
       "      <td>https://img.pokemondb.net/sprites/sword-shield...</td>\n",
       "      <td>['https://img.pokemondb.net/artwork/regieleki....</td>\n",
       "    </tr>\n",
       "    <tr>\n",
       "      <th>894</th>\n",
       "      <td>#895</td>\n",
       "      <td>regidrago</td>\n",
       "      <td>Dragon</td>\n",
       "      <td>NaN</td>\n",
       "      <td>https://img.pokemondb.net/sprites/sword-shield...</td>\n",
       "      <td>['https://img.pokemondb.net/artwork/regidrago....</td>\n",
       "    </tr>\n",
       "    <tr>\n",
       "      <th>895</th>\n",
       "      <td>#896</td>\n",
       "      <td>glastrier</td>\n",
       "      <td>Ice</td>\n",
       "      <td>NaN</td>\n",
       "      <td>https://img.pokemondb.net/sprites/sword-shield...</td>\n",
       "      <td>['https://img.pokemondb.net/artwork/glastrier....</td>\n",
       "    </tr>\n",
       "    <tr>\n",
       "      <th>896</th>\n",
       "      <td>#897</td>\n",
       "      <td>spectrier</td>\n",
       "      <td>Ghost</td>\n",
       "      <td>NaN</td>\n",
       "      <td>https://img.pokemondb.net/sprites/sword-shield...</td>\n",
       "      <td>['https://img.pokemondb.net/artwork/spectrier....</td>\n",
       "    </tr>\n",
       "    <tr>\n",
       "      <th>897</th>\n",
       "      <td>#898</td>\n",
       "      <td>calyrex</td>\n",
       "      <td>Psychic</td>\n",
       "      <td>Grass</td>\n",
       "      <td>https://img.pokemondb.net/sprites/sword-shield...</td>\n",
       "      <td>['https://img.pokemondb.net/artwork/calyrex.jp...</td>\n",
       "    </tr>\n",
       "  </tbody>\n",
       "</table>\n",
       "<p>898 rows × 6 columns</p>\n",
       "</div>"
      ],
      "text/plain": [
       "       ID        Name Primary Type Secondary Type  \\\n",
       "0    #001   bulbasaur        Grass         Poison   \n",
       "1    #002     ivysaur        Grass         Poison   \n",
       "2    #003    venusaur        Grass         Poison   \n",
       "3    #004  charmander         Fire            NaN   \n",
       "4    #005  charmeleon         Fire            NaN   \n",
       "..    ...         ...          ...            ...   \n",
       "893  #894   regieleki     Electric            NaN   \n",
       "894  #895   regidrago       Dragon            NaN   \n",
       "895  #896   glastrier          Ice            NaN   \n",
       "896  #897   spectrier        Ghost            NaN   \n",
       "897  #898     calyrex      Psychic          Grass   \n",
       "\n",
       "                                                 Image  \\\n",
       "0    https://img.pokemondb.net/sprites/bank/normal/...   \n",
       "1    https://img.pokemondb.net/sprites/bank/normal/...   \n",
       "2    https://img.pokemondb.net/sprites/bank/normal/...   \n",
       "3    https://img.pokemondb.net/sprites/bank/normal/...   \n",
       "4    https://img.pokemondb.net/sprites/bank/normal/...   \n",
       "..                                                 ...   \n",
       "893  https://img.pokemondb.net/sprites/sword-shield...   \n",
       "894  https://img.pokemondb.net/sprites/sword-shield...   \n",
       "895  https://img.pokemondb.net/sprites/sword-shield...   \n",
       "896  https://img.pokemondb.net/sprites/sword-shield...   \n",
       "897  https://img.pokemondb.net/sprites/sword-shield...   \n",
       "\n",
       "                                     Additional Images  \n",
       "0    ['https://img.pokemondb.net/artwork/bulbasaur....  \n",
       "1    ['https://img.pokemondb.net/artwork/ivysaur.jp...  \n",
       "2    ['https://img.pokemondb.net/artwork/venusaur.j...  \n",
       "3    ['https://img.pokemondb.net/artwork/charmander...  \n",
       "4    ['https://img.pokemondb.net/artwork/charmeleon...  \n",
       "..                                                 ...  \n",
       "893  ['https://img.pokemondb.net/artwork/regieleki....  \n",
       "894  ['https://img.pokemondb.net/artwork/regidrago....  \n",
       "895  ['https://img.pokemondb.net/artwork/glastrier....  \n",
       "896  ['https://img.pokemondb.net/artwork/spectrier....  \n",
       "897  ['https://img.pokemondb.net/artwork/calyrex.jp...  \n",
       "\n",
       "[898 rows x 6 columns]"
      ]
     },
     "execution_count": 3,
     "metadata": {},
     "output_type": "execute_result"
    }
   ],
   "source": [
    "df"
   ]
  },
  {
   "cell_type": "code",
   "execution_count": 4,
   "id": "27b3b67b",
   "metadata": {},
   "outputs": [],
   "source": [
    "from skimage import io, color, filters\n",
    "\n",
    "from PIL import Image\n",
    "import requests\n",
    "from io import BytesIO\n",
    "from imageio import imread"
   ]
  },
  {
   "cell_type": "code",
   "execution_count": 5,
   "id": "296d9906",
   "metadata": {},
   "outputs": [],
   "source": [
    "url = df['Image'].loc[0]\n",
    "im = Image.open(requests.get(url, stream=True).raw)"
   ]
  },
  {
   "cell_type": "code",
   "execution_count": 6,
   "id": "8546b278",
   "metadata": {},
   "outputs": [
    {
     "data": {
      "text/plain": [
       "(128, 128)"
      ]
     },
     "execution_count": 6,
     "metadata": {},
     "output_type": "execute_result"
    }
   ],
   "source": [
    "im = im.convert('RGBA')\n",
    "im.size"
   ]
  },
  {
   "cell_type": "code",
   "execution_count": 7,
   "id": "4e39a95b",
   "metadata": {},
   "outputs": [],
   "source": [
    "a = np.array(im)[:,:,0:3]"
   ]
  },
  {
   "cell_type": "code",
   "execution_count": 8,
   "id": "2c027d53",
   "metadata": {},
   "outputs": [
    {
     "data": {
      "text/plain": [
       "<matplotlib.image.AxesImage at 0x7f8295e4da90>"
      ]
     },
     "execution_count": 8,
     "metadata": {},
     "output_type": "execute_result"
    },
    {
     "data": {
      "image/png": "[encoded data removed]",
      "text/plain": [
       "<Figure size 432x288 with 1 Axes>"
      ]
     },
     "metadata": {},
     "output_type": "display_data"
    }
   ],
   "source": [
    "io.imshow(a)"
   ]
  },
  {
   "cell_type": "code",
   "execution_count": 9,
   "id": "20e82ae2",
   "metadata": {},
   "outputs": [
    {
     "data": {
      "text/plain": [
       "(128, 128, 3)"
      ]
     },
     "execution_count": 9,
     "metadata": {},
     "output_type": "execute_result"
    }
   ],
   "source": [
    "a.shape"
   ]
  },
  {
   "cell_type": "code",
   "execution_count": 10,
   "id": "8308b647",
   "metadata": {},
   "outputs": [],
   "source": [
    "dict1 = {}"
   ]
  },
  {
   "cell_type": "code",
   "execution_count": 11,
   "id": "ea58247f",
   "metadata": {},
   "outputs": [],
   "source": [
    "dict1['pokemon'] = 'bulbasaur'"
   ]
  },
  {
   "cell_type": "code",
   "execution_count": 12,
   "id": "7ef0c95d",
   "metadata": {},
   "outputs": [],
   "source": [
    "dict1['image'] = a"
   ]
  },
  {
   "cell_type": "code",
   "execution_count": 13,
   "id": "9fb2cde6",
   "metadata": {},
   "outputs": [],
   "source": [
    "dict1['types'] = df['Primary Type'].loc[0]"
   ]
  },
  {
   "cell_type": "code",
   "execution_count": 14,
   "id": "57417ceb",
   "metadata": {},
   "outputs": [
    {
     "data": {
      "text/plain": [
       "{'pokemon': 'bulbasaur',\n",
       " 'image': array([[[0, 0, 0],\n",
       "         [0, 0, 0],\n",
       "         [0, 0, 0],\n",
       "         ...,\n",
       "         [0, 0, 0],\n",
       "         [0, 0, 0],\n",
       "         [0, 0, 0]],\n",
       " \n",
       "        [[0, 0, 0],\n",
       "         [0, 0, 0],\n",
       "         [0, 0, 0],\n",
       "         ...,\n",
       "         [0, 0, 0],\n",
       "         [0, 0, 0],\n",
       "         [0, 0, 0]],\n",
       " \n",
       "        [[0, 0, 0],\n",
       "         [0, 0, 0],\n",
       "         [0, 0, 0],\n",
       "         ...,\n",
       "         [0, 0, 0],\n",
       "         [0, 0, 0],\n",
       "         [0, 0, 0]],\n",
       " \n",
       "        ...,\n",
       " \n",
       "        [[0, 0, 0],\n",
       "         [0, 0, 0],\n",
       "         [0, 0, 0],\n",
       "         ...,\n",
       "         [0, 0, 0],\n",
       "         [0, 0, 0],\n",
       "         [0, 0, 0]],\n",
       " \n",
       "        [[0, 0, 0],\n",
       "         [0, 0, 0],\n",
       "         [0, 0, 0],\n",
       "         ...,\n",
       "         [0, 0, 0],\n",
       "         [0, 0, 0],\n",
       "         [0, 0, 0]],\n",
       " \n",
       "        [[0, 0, 0],\n",
       "         [0, 0, 0],\n",
       "         [0, 0, 0],\n",
       "         ...,\n",
       "         [0, 0, 0],\n",
       "         [0, 0, 0],\n",
       "         [0, 0, 0]]], dtype=uint8),\n",
       " 'types': 'Grass'}"
      ]
     },
     "execution_count": 14,
     "metadata": {},
     "output_type": "execute_result"
    }
   ],
   "source": [
    "dict1"
   ]
  },
  {
   "cell_type": "code",
   "execution_count": 15,
   "id": "ab452ed8",
   "metadata": {},
   "outputs": [
    {
     "data": {
      "text/plain": [
       "\"['https://img.pokemondb.net/artwork/bulbasaur.jpg', 'https://img.pokemondb.net/sprites/red-blue/normal/bulbasaur.png', 'https://img.pokemondb.net/sprites/silver/normal/bulbasaur.png', 'https://img.pokemondb.net/sprites/ruby-sapphire/normal/bulbasaur.png', 'https://img.pokemondb.net/sprites/diamond-pearl/normal/bulbasaur.png', 'https://img.pokemondb.net/sprites/black-white/normal/bulbasaur.png', 'https://img.pokemondb.net/sprites/x-y/normal/bulbasaur.png', 'https://img.pokemondb.net/sprites/sword-shield/normal/bulbasaur.png', 'https://img.pokemondb.net/sprites/silver/shiny/bulbasaur.png', 'https://img.pokemondb.net/sprites/ruby-sapphire/shiny/bulbasaur.png', 'https://img.pokemondb.net/sprites/diamond-pearl/shiny/bulbasaur.png', 'https://img.pokemondb.net/sprites/black-white/shiny/bulbasaur.png', 'https://img.pokemondb.net/sprites/x-y/shiny/bulbasaur.png']\""
      ]
     },
     "execution_count": 15,
     "metadata": {},
     "output_type": "execute_result"
    }
   ],
   "source": [
    "df['Additional Images'].loc[0]"
   ]
  },
  {
   "cell_type": "code",
   "execution_count": 16,
   "id": "54ddf2a2",
   "metadata": {},
   "outputs": [],
   "source": [
    "for i in range(df.shape[0]):\n",
    "    url = df['Image'].loc[i]\n",
    "    im = Image.open(requests.get(url, stream=True).raw)\n",
    "    im = im.convert('RGBA')\n",
    "    a = np.array(im)[:,:,0:3]\n",
    "    image = Image.fromarray(a)\n",
    "    if str(df['Secondary Type'].loc[i]) != 'nan':\n",
    "        image.save('../images/'+df['Primary Type'].loc[i]+'/'+df['Name'].loc[i]+'_0'+'.png')\n",
    "        image.save('../images/'+df['Secondary Type'].loc[i]+'/'+df['Name'].loc[i]+'_0'+'.png')\n",
    "    else:\n",
    "        image.save('../images/'+df['Primary Type'].loc[i]+'/'+df['Name'].loc[i]+'_0'+'.png')"
   ]
  },
  {
   "cell_type": "code",
   "execution_count": 17,
   "id": "e7eaf450",
   "metadata": {},
   "outputs": [
    {
     "ename": "KeyboardInterrupt",
     "evalue": "",
     "output_type": "error",
     "traceback": [
      "\u001b[0;31m---------------------------------------------------------------------------\u001b[0m",
      "\u001b[0;31mKeyboardInterrupt\u001b[0m                         Traceback (most recent call last)",
      "\u001b[0;32m<ipython-input-17-0b370fa94f07>\u001b[0m in \u001b[0;36m<module>\u001b[0;34m\u001b[0m\n\u001b[1;32m     11\u001b[0m                 \u001b[0mimage\u001b[0m\u001b[0;34m.\u001b[0m\u001b[0msave\u001b[0m\u001b[0;34m(\u001b[0m\u001b[0;34m'../images/'\u001b[0m\u001b[0;34m+\u001b[0m\u001b[0mdf\u001b[0m\u001b[0;34m[\u001b[0m\u001b[0;34m'Secondary Type'\u001b[0m\u001b[0;34m]\u001b[0m\u001b[0;34m.\u001b[0m\u001b[0mloc\u001b[0m\u001b[0;34m[\u001b[0m\u001b[0mi\u001b[0m\u001b[0;34m]\u001b[0m\u001b[0;34m+\u001b[0m\u001b[0;34m'/'\u001b[0m\u001b[0;34m+\u001b[0m\u001b[0mdf\u001b[0m\u001b[0;34m[\u001b[0m\u001b[0;34m'Name'\u001b[0m\u001b[0;34m]\u001b[0m\u001b[0;34m.\u001b[0m\u001b[0mloc\u001b[0m\u001b[0;34m[\u001b[0m\u001b[0mi\u001b[0m\u001b[0;34m]\u001b[0m\u001b[0;34m+\u001b[0m\u001b[0;34m'_'\u001b[0m\u001b[0;34m+\u001b[0m\u001b[0mstr\u001b[0m\u001b[0;34m(\u001b[0m\u001b[0mindex\u001b[0m\u001b[0;34m+\u001b[0m\u001b[0;36m1\u001b[0m\u001b[0;34m)\u001b[0m\u001b[0;34m+\u001b[0m\u001b[0;34m'.png'\u001b[0m\u001b[0;34m)\u001b[0m\u001b[0;34m\u001b[0m\u001b[0;34m\u001b[0m\u001b[0m\n\u001b[1;32m     12\u001b[0m             \u001b[0;32melse\u001b[0m\u001b[0;34m:\u001b[0m\u001b[0;34m\u001b[0m\u001b[0;34m\u001b[0m\u001b[0m\n\u001b[0;32m---> 13\u001b[0;31m                 \u001b[0mimage\u001b[0m\u001b[0;34m.\u001b[0m\u001b[0msave\u001b[0m\u001b[0;34m(\u001b[0m\u001b[0;34m'../images/'\u001b[0m\u001b[0;34m+\u001b[0m\u001b[0mdf\u001b[0m\u001b[0;34m[\u001b[0m\u001b[0;34m'Primary Type'\u001b[0m\u001b[0;34m]\u001b[0m\u001b[0;34m.\u001b[0m\u001b[0mloc\u001b[0m\u001b[0;34m[\u001b[0m\u001b[0mi\u001b[0m\u001b[0;34m]\u001b[0m\u001b[0;34m+\u001b[0m\u001b[0;34m'/'\u001b[0m\u001b[0;34m+\u001b[0m\u001b[0mdf\u001b[0m\u001b[0;34m[\u001b[0m\u001b[0;34m'Name'\u001b[0m\u001b[0;34m]\u001b[0m\u001b[0;34m.\u001b[0m\u001b[0mloc\u001b[0m\u001b[0;34m[\u001b[0m\u001b[0mi\u001b[0m\u001b[0;34m]\u001b[0m\u001b[0;34m+\u001b[0m\u001b[0;34m'_'\u001b[0m\u001b[0;34m+\u001b[0m\u001b[0mstr\u001b[0m\u001b[0;34m(\u001b[0m\u001b[0mindex\u001b[0m\u001b[0;34m+\u001b[0m\u001b[0;36m1\u001b[0m\u001b[0;34m)\u001b[0m\u001b[0;34m+\u001b[0m\u001b[0;34m'.png'\u001b[0m\u001b[0;34m)\u001b[0m\u001b[0;34m\u001b[0m\u001b[0;34m\u001b[0m\u001b[0m\n\u001b[0m",
      "\u001b[0;32m~/opt/anaconda3/lib/python3.8/site-packages/PIL/Image.py\u001b[0m in \u001b[0;36msave\u001b[0;34m(self, fp, format, **params)\u001b[0m\n\u001b[1;32m   2167\u001b[0m                 \u001b[0mfp\u001b[0m \u001b[0;34m=\u001b[0m \u001b[0mbuiltins\u001b[0m\u001b[0;34m.\u001b[0m\u001b[0mopen\u001b[0m\u001b[0;34m(\u001b[0m\u001b[0mfilename\u001b[0m\u001b[0;34m,\u001b[0m \u001b[0;34m\"r+b\"\u001b[0m\u001b[0;34m)\u001b[0m\u001b[0;34m\u001b[0m\u001b[0;34m\u001b[0m\u001b[0m\n\u001b[1;32m   2168\u001b[0m             \u001b[0;32melse\u001b[0m\u001b[0;34m:\u001b[0m\u001b[0;34m\u001b[0m\u001b[0;34m\u001b[0m\u001b[0m\n\u001b[0;32m-> 2169\u001b[0;31m                 \u001b[0mfp\u001b[0m \u001b[0;34m=\u001b[0m \u001b[0mbuiltins\u001b[0m\u001b[0;34m.\u001b[0m\u001b[0mopen\u001b[0m\u001b[0;34m(\u001b[0m\u001b[0mfilename\u001b[0m\u001b[0;34m,\u001b[0m \u001b[0;34m\"w+b\"\u001b[0m\u001b[0;34m)\u001b[0m\u001b[0;34m\u001b[0m\u001b[0;34m\u001b[0m\u001b[0m\n\u001b[0m\u001b[1;32m   2170\u001b[0m \u001b[0;34m\u001b[0m\u001b[0m\n\u001b[1;32m   2171\u001b[0m         \u001b[0;32mtry\u001b[0m\u001b[0;34m:\u001b[0m\u001b[0;34m\u001b[0m\u001b[0;34m\u001b[0m\u001b[0m\n",
      "\u001b[0;31mKeyboardInterrupt\u001b[0m: "
     ]
    }
   ],
   "source": [
    "for i in range(df.shape[0]):    \n",
    "    for index, image in enumerate(ast.literal_eval(df['Additional Images'].loc[i])):\n",
    "        if image.find('shiny') == -1:\n",
    "            url = image\n",
    "            im = Image.open(requests.get(url, stream=True).raw)\n",
    "            im = im.convert('RGBA')\n",
    "            a = np.array(im)[:,:,0:3]\n",
    "            image = Image.fromarray(a)\n",
    "            if str(df['Secondary Type'].loc[i]) != 'nan':\n",
    "                image.save('../images/'+df['Primary Type'].loc[i]+'/'+df['Name'].loc[i]+'_'+str(index+1)+'.png')\n",
    "                image.save('../images/'+df['Secondary Type'].loc[i]+'/'+df['Name'].loc[i]+'_'+str(index+1)+'.png')\n",
    "            else:\n",
    "                image.save('../images/'+df['Primary Type'].loc[i]+'/'+df['Name'].loc[i]+'_'+str(index+1)+'.png')"
   ]
  },
  {
   "cell_type": "code",
   "execution_count": null,
   "id": "08d593f6",
   "metadata": {
    "scrolled": true
   },
   "outputs": [],
   "source": [
    "'../images/'+df['Primary Type'].loc[i]+'/'+df['Name'].loc[i]+'_'+str(index+1)+'.png'"
   ]
  },
  {
   "cell_type": "code",
   "execution_count": 18,
   "id": "aaba0d72",
   "metadata": {},
   "outputs": [],
   "source": [
    "type_count = df['Primary Type'].value_counts()+df['Secondary Type'].value_counts()"
   ]
  },
  {
   "cell_type": "code",
   "execution_count": 38,
   "id": "890a5622",
   "metadata": {},
   "outputs": [
    {
     "data": {
      "image/png": "[encoded data removed]",
      "text/plain": [
       "<Figure size 1080x720 with 1 Axes>"
      ]
     },
     "metadata": {},
     "output_type": "display_data"
    }
   ],
   "source": [
    "fig,ax = plt.subplots(figsize= (15,10))\n",
    "ax.bar(range(0,18), type_count, color = colors)\n",
    "ax.set_xticks(range(0,18))\n",
    "ax.set_xticklabels(type_count.index, size = 12)\n",
    "plt.xticks(rotation = 45);\n",
    "ax.set_xlabel('Type', size = 14)\n",
    "ax.set_ylabel('Count', size = 14)\n",
    "ax.set_title('Amount of Pokémon by Type', size = 16)\n",
    "plt.savefig('../images/type_distribution.png')"
   ]
  },
  {
   "cell_type": "code",
   "execution_count": 24,
   "id": "0e569200",
   "metadata": {},
   "outputs": [],
   "source": [
    "colors = ['#a8b820', '#705848', '#7038f8','#f8D030','#ee99ac','#c03028','#f08030','#a890f0','#705898','#78c850','#e0C068','#98d8d8','#a8a878','#a040a0','#f85888','#b8a038','#b8b8D0','#6890f0']\n"
   ]
  },
  {
   "cell_type": "code",
   "execution_count": 31,
   "id": "e2a78b23",
   "metadata": {},
   "outputs": [],
   "source": [
    "types_count2= np.array([ 888,  575,  529,  492,  503,  527,  620, 1341,  484,  988,  825,\n",
    "        441, 1012,  874,  936,  788,  593, 1462])"
   ]
  },
  {
   "cell_type": "code",
   "execution_count": 43,
   "id": "8c6e9206",
   "metadata": {},
   "outputs": [
    {
     "data": {
      "image/png": "[encoded data removed]",
      "text/plain": [
       "<Figure size 1080x720 with 1 Axes>"
      ]
     },
     "metadata": {},
     "output_type": "display_data"
    }
   ],
   "source": [
    "fig,ax = plt.subplots(figsize= (15,10))\n",
    "ax.bar(range(0,18), types_count2, color = colors)\n",
    "ax.set_xticks(range(0,18))\n",
    "ax.set_xticklabels(type_count.index, size = 12)\n",
    "plt.xticks(rotation = 45);\n",
    "ax.set_xlabel('Type', size = 14)\n",
    "ax.set_ylabel('Count', size = 14)\n",
    "ax.set_title('Amount of Images by Type', size = 16)\n",
    "plt.savefig('../images/image_distribution.png')"
   ]
  },
  {
   "cell_type": "code",
   "execution_count": 42,
   "id": "c0432186",
   "metadata": {},
   "outputs": [
    {
     "data": {
      "text/plain": [
       "<Figure size 432x288 with 0 Axes>"
      ]
     },
     "metadata": {},
     "output_type": "display_data"
    }
   ],
   "source": [
    "plt.savefig('../images/image_distribution.png')"
   ]
  },
  {
   "cell_type": "code",
   "execution_count": null,
   "id": "5f7012f8",
   "metadata": {},
   "outputs": [],
   "source": []
  }
 ],
 "metadata": {
  "kernelspec": {
   "display_name": "Python 3",
   "language": "python",
   "name": "python3"
  },
  "language_info": {
   "codemirror_mode": {
    "name": "ipython",
    "version": 3
   },
   "file_extension": ".py",
   "mimetype": "text/x-python",
   "name": "python",
   "nbconvert_exporter": "python",
   "pygments_lexer": "ipython3",
   "version": "3.8.8"
  }
 },
 "nbformat": 4,
 "nbformat_minor": 5
}
